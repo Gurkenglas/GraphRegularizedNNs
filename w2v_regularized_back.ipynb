{
 "cells": [
  {
   "cell_type": "markdown",
   "id": "better-accused",
   "metadata": {},
   "source": [
    "- Code adopted from https://rguigoures.github.io/word2vec_pytorch/\n",
    "- Relevant implementation: https://github.com/Andras7/word2vec-pytorch"
   ]
  },
  {
   "cell_type": "code",
   "execution_count": 1,
   "id": "tropical-difficulty",
   "metadata": {},
   "outputs": [],
   "source": [
    "import itertools\n",
    "import re\n",
    "import gc\n",
    "import nltk\n",
    "\n",
    "from nltk.corpus import stopwords\n",
    "from tqdm.notebook import tqdm, trange\n",
    "import networkx as nx\n",
    "from scipy import sparse\n",
    "import numpy as np\n",
    "import pandas as pd\n",
    "import pygsp\n",
    "\n",
    "from sklearn import cluster\n",
    "from sklearn.manifold import SpectralEmbedding\n",
    "import matplotlib.pyplot as plt\n",
    "\n",
    "import torch\n",
    "from torch import nn, autograd\n",
    "import torch.optim as optim\n",
    "import torch.nn.functional as F\n",
    "\n",
    "%config Completer.use_jedi = False\n",
    "\n",
    "dev = 'cuda:0'"
   ]
  },
  {
   "cell_type": "code",
   "execution_count": 2,
   "id": "unknown-adoption",
   "metadata": {},
   "outputs": [],
   "source": [
    "from collections import Counter, defaultdict\n",
    "import random, math\n",
    "from numpy.random import multinomial\n",
    "from sklearn import neighbors\n",
    "\n",
    "def subsample_frequent_words(corpus, word_counts=None):\n",
    "    filtered_corpus = []\n",
    "    if word_counts is None:\n",
    "        word_counts = dict(Counter(list(itertools.chain.from_iterable(corpus))))\n",
    "    sum_word_counts = sum(list(word_counts.values()))\n",
    "    word_counts = {w: cnt / float(sum_word_counts) for w,cnt in word_counts.items()}\n",
    "    for text in tqdm(corpus):\n",
    "        filtered_corpus.append([])\n",
    "        for word in text:\n",
    "            if random.random() < (1 + math.sqrt(word_counts[word] * 1e3)) * 1e-3 / float(word_counts[word]):\n",
    "                filtered_corpus[-1].append(word)\n",
    "    return filtered_corpus\n",
    "\n",
    "\n",
    "def get_batches(context_tuple_list, batch_size=100):\n",
    "    random.shuffle(context_tuple_list)\n",
    "    batches = []\n",
    "    batch_target, batch_context, batch_negative = [], [], []\n",
    "    for i,ctup in enumerate(context_tuple_list):\n",
    "        batch_target.append(word_to_index[ctup[0]])\n",
    "        batch_context.append(word_to_index[ctup[1]])\n",
    "        if len(ctup) > 2:\n",
    "            batch_negative.append([word_to_index[w] for w in ctup[2]])\n",
    "        if (i+1) % batch_size == 0 or i == len(context_tuple_list)-1:\n",
    "            tensor_target = autograd.Variable(torch.from_numpy(np.array(batch_target)).long())\n",
    "            tensor_context = autograd.Variable(torch.from_numpy(np.array(batch_context)).long())\n",
    "            if len(ctup) > 2:\n",
    "                tensor_negative = autograd.Variable(torch.from_numpy(np.array(batch_negative)).long())\n",
    "                batches.append((tensor_target, tensor_context, tensor_negative))\n",
    "            else:\n",
    "                batches.append((tensor_target, tensor_context))\n",
    "            \n",
    "            batch_target, batch_context, batch_negative = [], [], []\n",
    "    return batches\n",
    "\n",
    "\n",
    "class EarlyStopping():\n",
    "    def __init__(self, patience=5, min_percent_gain=0.1):\n",
    "        self.patience = patience\n",
    "        self.loss_list = []\n",
    "        self.min_percent_gain = min_percent_gain / 100.\n",
    "        \n",
    "    def update_loss(self, loss):\n",
    "        self.loss_list.append(loss)\n",
    "        if len(self.loss_list) > self.patience:\n",
    "            del self.loss_list[0]\n",
    "    \n",
    "    def stop_training(self):\n",
    "        if len(self.loss_list) == 1:\n",
    "            return False\n",
    "        gain = (max(self.loss_list) - min(self.loss_list)) / max(self.loss_list)\n",
    "        print(\"Loss gain: {}%\".format(round(100*gain,2)))\n",
    "        if gain < self.min_percent_gain:\n",
    "            return True\n",
    "        else:\n",
    "            return False\n",
    "        \n",
    "        \n",
    "def create_graph_from_embedding(embedding, name, k=10):\n",
    "    latent_dim, batch_size = embedding.shape\n",
    "    if name =='gaussian':\n",
    "        # Compute a gaussian kernel over the node activations\n",
    "        node_distances = squareform(pdist(embedding, 'sqeuclidean'))\n",
    "        s = 1\n",
    "        K = np.exp(-node_distances / s**2)\n",
    "        K[K < 0.1] = 0\n",
    "        A = K * (np.ones((latent_dim, latent_dim)) - np.identity(latent_dim))\n",
    "        return A\n",
    "    elif name == 'knn':\n",
    "        mat = neighbors.kneighbors_graph(embedding, n_neighbors=k, metric='cosine', mode='distance')\n",
    "        mat.data = 1 - mat.data\n",
    "        A = mat.toarray()\n",
    "#         A = neighbors.kneighbors_graph(embedding, n_neighbors=k, metric='cosine').toarray()\n",
    "        A = (A + A.T) / 2 # Symmetrize knn graph\n",
    "        return A\n",
    "    elif name == 'adaptive':\n",
    "        # Find distance of k-th nearest neighbor and set as bandwidth\n",
    "        neigh = neighbors.NearestNeighbors(n_neighbors=3)\n",
    "        neigh.fit(embedding)\n",
    "        dist, _ = neigh.kneighbors(embedding, return_distance=True)\n",
    "        kdist = dist[:,-1]\n",
    "        # Apply gaussian kernel with adaptive bandwidth\n",
    "        node_distances = squareform(pdist(embedding, 'sqeuclidean'))\n",
    "        K = np.exp(-node_distances / kdist**2)\n",
    "        A = K * (np.ones((latent_dim, latent_dim)) - np.identity(latent_dim))\n",
    "        A = (A + np.transpose(A)) / 2 # Symmetrize knn graph\n",
    "        return A\n",
    "    else:\n",
    "        raise RuntimeError('Unknown graph name %s' % name)"
   ]
  },
  {
   "cell_type": "code",
   "execution_count": 4,
   "id": "irish-sandwich",
   "metadata": {},
   "outputs": [
    {
     "name": "stdout",
     "output_type": "stream",
     "text": [
      "CPU times: user 24.6 s, sys: 4.73 s, total: 29.3 s\n",
      "Wall time: 32.2 s\n"
     ]
    }
   ],
   "source": [
    "# %time documents_norm = pd.read_pickle(\"../DocumentMap/arxiv/cache/documents_norm_all.pkl\")"
   ]
  },
  {
   "cell_type": "code",
   "execution_count": 5,
   "id": "sufficient-pitch",
   "metadata": {},
   "outputs": [
    {
     "data": {
      "application/vnd.jupyter.widget-view+json": {
       "model_id": "5b16ba10242a4fe5bc52a0e9db4f9165",
       "version_major": 2,
       "version_minor": 0
      },
      "text/plain": [
       "  0%|          | 0/3638214 [00:00<?, ?it/s]"
      ]
     },
     "metadata": {},
     "output_type": "display_data"
    },
    {
     "data": {
      "text/plain": [
       "107727"
      ]
     },
     "execution_count": 5,
     "metadata": {},
     "output_type": "execute_result"
    }
   ],
   "source": [
    "# word_counts = defaultdict(lambda: 0)\n",
    "# for words in tqdm(documents_norm):\n",
    "#     for w in words:\n",
    "#         word_counts[w] += 1\n",
    "    \n",
    "# word_counts = pd.Series(word_counts)\n",
    "\n",
    "# vocabulary = set(word_counts.index.values[word_counts.values >= 10]) - set(stopwords.words('english'))\n",
    "# word_counts = word_counts[list(vocabulary)]\n",
    "# word_counts.to_pickle(\"./cache/word_counts_arxiv.pkl\")\n",
    "\n",
    "# len(vocabulary)"
   ]
  },
  {
   "cell_type": "code",
   "execution_count": 3,
   "id": "fossil-seeker",
   "metadata": {},
   "outputs": [],
   "source": [
    "word_counts = pd.read_pickle(\"./cache/word_counts_arxiv.pkl\")\n",
    "vocabulary = set(word_counts.index)"
   ]
  },
  {
   "cell_type": "code",
   "execution_count": 6,
   "id": "dental-gospel",
   "metadata": {},
   "outputs": [
    {
     "data": {
      "application/vnd.jupyter.widget-view+json": {
       "model_id": "ecc74c6872224cf28a2123930a089a80",
       "version_major": 2,
       "version_minor": 0
      },
      "text/plain": [
       "  0%|          | 0/3638214 [00:00<?, ?it/s]"
      ]
     },
     "metadata": {},
     "output_type": "display_data"
    },
    {
     "data": {
      "application/vnd.jupyter.widget-view+json": {
       "model_id": "1b2ae9209a274eb5aa2b21073a759dad",
       "version_major": 2,
       "version_minor": 0
      },
      "text/plain": [
       "  0%|          | 0/3638214 [00:00<?, ?it/s]"
      ]
     },
     "metadata": {},
     "output_type": "display_data"
    }
   ],
   "source": [
    "# corpus = [[w for w in words if w in vocabulary] for words in tqdm(documents_norm)]\n",
    "# corpus = subsample_frequent_words(corpus, word_counts=dict(word_counts))\n",
    "# corpus = [t for t in corpus if len(t) > 4]"
   ]
  },
  {
   "cell_type": "code",
   "execution_count": 9,
   "id": "congressional-schema",
   "metadata": {},
   "outputs": [],
   "source": [
    "# word_to_index = {w: idx for (idx, w) in enumerate(vocabulary)}\n",
    "# index_to_word = np.array(list(vocabulary))\n",
    "\n",
    "# sample_probability = (word_counts**0.75) / (word_counts**0.75).sum()\n",
    "# sample_probability.index = [word_to_index[w] for w in sample_probability.index.values]\n",
    "\n",
    "# pd.to_pickle((sample_probability, word_to_index, index_to_word), \"./cache/w2v_meta_info.pkl\")"
   ]
  },
  {
   "cell_type": "code",
   "execution_count": 4,
   "id": "blocked-brain",
   "metadata": {},
   "outputs": [],
   "source": [
    "sample_probability, word_to_index, index_to_word = pd.read_pickle(\"./cache/w2v_meta_info.pkl\")"
   ]
  },
  {
   "cell_type": "markdown",
   "id": "satellite-graham",
   "metadata": {
    "heading_collapsed": "true",
    "tags": []
   },
   "source": [
    "## Basic"
   ]
  },
  {
   "cell_type": "code",
   "execution_count": 11,
   "id": "patent-locator",
   "metadata": {},
   "outputs": [],
   "source": [
    "class Word2Vec(nn.Module):\n",
    "\n",
    "    def __init__(self, embedding_size, vocab_size):\n",
    "        super(Word2Vec, self).__init__()\n",
    "        self.embeddings = nn.Embedding(vocab_size, embedding_size)\n",
    "        self.linear = nn.Linear(embedding_size, vocab_size)\n",
    "        \n",
    "    def forward(self, context_word):\n",
    "        emb = self.embeddings(context_word)\n",
    "        hidden = self.linear(emb)\n",
    "        out = F.log_softmax(hidden)\n",
    "        return out"
   ]
  },
  {
   "cell_type": "code",
   "execution_count": 12,
   "id": "identified-sponsorship",
   "metadata": {},
   "outputs": [
    {
     "name": "stdout",
     "output_type": "stream",
     "text": [
      "There are 348617 pairs of target and context words\n"
     ]
    }
   ],
   "source": [
    "import numpy as np\n",
    "\n",
    "context_tuple_list = []\n",
    "w = 4\n",
    "\n",
    "for text in corpus:\n",
    "    for i, word in enumerate(text):\n",
    "        first_context_word_index = max(0,i-w)\n",
    "        last_context_word_index = min(i+w, len(text))\n",
    "        for j in range(first_context_word_index, last_context_word_index):\n",
    "            if i!=j:\n",
    "                context_tuple_list.append((word, text[j]))\n",
    "print(\"There are {} pairs of target and context words\".format(len(context_tuple_list)))"
   ]
  },
  {
   "cell_type": "code",
   "execution_count": 13,
   "id": "incorrect-romania",
   "metadata": {},
   "outputs": [],
   "source": [
    "import gc\n",
    "def clean_mem():\n",
    "    gc.collect()\n",
    "    torch.cuda.empty_cache()"
   ]
  },
  {
   "cell_type": "code",
   "execution_count": 16,
   "id": "christian-climb",
   "metadata": {},
   "outputs": [
    {
     "data": {
      "application/vnd.jupyter.widget-view+json": {
       "model_id": "c0498ce217cf4661bd31fa5f3faa794c",
       "version_major": 2,
       "version_minor": 0
      },
      "text/plain": [
       "  0%|          | 0/349 [00:00<?, ?it/s]"
      ]
     },
     "metadata": {},
     "output_type": "display_data"
    },
    {
     "name": "stderr",
     "output_type": "stream",
     "text": [
      "<ipython-input-11-1b84e6671fcd>:11: UserWarning: Implicit dimension choice for log_softmax has been deprecated. Change the call to include dim=X as an argument.\n",
      "  out = F.log_softmax(hidden)\n"
     ]
    },
    {
     "name": "stdout",
     "output_type": "stream",
     "text": [
      "Epoch:  0 . Loss:  9.320434086643864\n"
     ]
    },
    {
     "data": {
      "application/vnd.jupyter.widget-view+json": {
       "model_id": "8bd30c4a63834cdda76c2a168e15d0ca",
       "version_major": 2,
       "version_minor": 0
      },
      "text/plain": [
       "  0%|          | 0/349 [00:00<?, ?it/s]"
      ]
     },
     "metadata": {},
     "output_type": "display_data"
    },
    {
     "name": "stdout",
     "output_type": "stream",
     "text": [
      "Epoch:  1 . Loss:  8.47007752011362\n",
      "Loss gain: 9.12%\n"
     ]
    },
    {
     "data": {
      "application/vnd.jupyter.widget-view+json": {
       "model_id": "7d760c4bac6e441d9c8cf8e247635925",
       "version_major": 2,
       "version_minor": 0
      },
      "text/plain": [
       "  0%|          | 0/349 [00:00<?, ?it/s]"
      ]
     },
     "metadata": {},
     "output_type": "display_data"
    },
    {
     "name": "stdout",
     "output_type": "stream",
     "text": [
      "Epoch:  2 . Loss:  7.7793624776823815\n",
      "Loss gain: 16.53%\n"
     ]
    },
    {
     "data": {
      "application/vnd.jupyter.widget-view+json": {
       "model_id": "320e6a5b56e14e18a48fd0cb5de57658",
       "version_major": 2,
       "version_minor": 0
      },
      "text/plain": [
       "  0%|          | 0/349 [00:00<?, ?it/s]"
      ]
     },
     "metadata": {},
     "output_type": "display_data"
    },
    {
     "name": "stdout",
     "output_type": "stream",
     "text": [
      "Epoch:  3 . Loss:  7.27933283726602\n",
      "Loss gain: 21.9%\n"
     ]
    },
    {
     "data": {
      "application/vnd.jupyter.widget-view+json": {
       "model_id": "7e76b90bd114480abffe697ff94218fe",
       "version_major": 2,
       "version_minor": 0
      },
      "text/plain": [
       "  0%|          | 0/349 [00:00<?, ?it/s]"
      ]
     },
     "metadata": {},
     "output_type": "display_data"
    },
    {
     "name": "stdout",
     "output_type": "stream",
     "text": [
      "Epoch:  4 . Loss:  6.897174399356787\n",
      "Loss gain: 26.0%\n"
     ]
    },
    {
     "data": {
      "application/vnd.jupyter.widget-view+json": {
       "model_id": "c6d4f572596749829fa25819541f9c67",
       "version_major": 2,
       "version_minor": 0
      },
      "text/plain": [
       "  0%|          | 0/349 [00:00<?, ?it/s]"
      ]
     },
     "metadata": {},
     "output_type": "display_data"
    },
    {
     "name": "stdout",
     "output_type": "stream",
     "text": [
      "Epoch:  5 . Loss:  6.595392617933388\n",
      "Loss gain: 22.13%\n"
     ]
    },
    {
     "data": {
      "application/vnd.jupyter.widget-view+json": {
       "model_id": "dcaae5e7063a46cf9e52c44d8e0435fa",
       "version_major": 2,
       "version_minor": 0
      },
      "text/plain": [
       "  0%|          | 0/349 [00:00<?, ?it/s]"
      ]
     },
     "metadata": {},
     "output_type": "display_data"
    },
    {
     "name": "stdout",
     "output_type": "stream",
     "text": [
      "Epoch:  6 . Loss:  6.355208857353232\n",
      "Loss gain: 18.31%\n"
     ]
    },
    {
     "data": {
      "application/vnd.jupyter.widget-view+json": {
       "model_id": "b041eb6ee49449d99204343c50e11e16",
       "version_major": 2,
       "version_minor": 0
      },
      "text/plain": [
       "  0%|          | 0/349 [00:00<?, ?it/s]"
      ]
     },
     "metadata": {},
     "output_type": "display_data"
    },
    {
     "name": "stdout",
     "output_type": "stream",
     "text": [
      "Epoch:  7 . Loss:  6.1623873847261885\n",
      "Loss gain: 15.34%\n"
     ]
    },
    {
     "data": {
      "application/vnd.jupyter.widget-view+json": {
       "model_id": "d32b476fc3cc431c9583499f74f2b0c6",
       "version_major": 2,
       "version_minor": 0
      },
      "text/plain": [
       "  0%|          | 0/349 [00:00<?, ?it/s]"
      ]
     },
     "metadata": {},
     "output_type": "display_data"
    },
    {
     "name": "stdout",
     "output_type": "stream",
     "text": [
      "Epoch:  8 . Loss:  6.004955484395724\n",
      "Loss gain: 12.94%\n"
     ]
    },
    {
     "data": {
      "application/vnd.jupyter.widget-view+json": {
       "model_id": "b3671417939a408f99a8877aaca20766",
       "version_major": 2,
       "version_minor": 0
      },
      "text/plain": [
       "  0%|          | 0/349 [00:00<?, ?it/s]"
      ]
     },
     "metadata": {},
     "output_type": "display_data"
    },
    {
     "name": "stdout",
     "output_type": "stream",
     "text": [
      "Epoch:  9 . Loss:  5.873008282614984\n",
      "Loss gain: 10.95%\n"
     ]
    },
    {
     "data": {
      "application/vnd.jupyter.widget-view+json": {
       "model_id": "6c4aeec90b264c278f594a0705623f98",
       "version_major": 2,
       "version_minor": 0
      },
      "text/plain": [
       "  0%|          | 0/349 [00:00<?, ?it/s]"
      ]
     },
     "metadata": {},
     "output_type": "display_data"
    },
    {
     "name": "stdout",
     "output_type": "stream",
     "text": [
      "Epoch:  10 . Loss:  5.760861564843907\n",
      "Loss gain: 9.35%\n"
     ]
    },
    {
     "data": {
      "application/vnd.jupyter.widget-view+json": {
       "model_id": "0ddcf608392842b88929909e20ed8317",
       "version_major": 2,
       "version_minor": 0
      },
      "text/plain": [
       "  0%|          | 0/349 [00:00<?, ?it/s]"
      ]
     },
     "metadata": {},
     "output_type": "display_data"
    },
    {
     "name": "stdout",
     "output_type": "stream",
     "text": [
      "Epoch:  11 . Loss:  5.663851270702985\n",
      "Loss gain: 8.09%\n"
     ]
    },
    {
     "data": {
      "application/vnd.jupyter.widget-view+json": {
       "model_id": "b53d55207322477cb5cb8ffbc5eea4b6",
       "version_major": 2,
       "version_minor": 0
      },
      "text/plain": [
       "  0%|          | 0/349 [00:00<?, ?it/s]"
      ]
     },
     "metadata": {},
     "output_type": "display_data"
    },
    {
     "name": "stdout",
     "output_type": "stream",
     "text": [
      "Epoch:  12 . Loss:  5.5794048555259375\n",
      "Loss gain: 7.09%\n"
     ]
    },
    {
     "data": {
      "application/vnd.jupyter.widget-view+json": {
       "model_id": "758843b84eef4da6acc3fbaa17123977",
       "version_major": 2,
       "version_minor": 0
      },
      "text/plain": [
       "  0%|          | 0/349 [00:00<?, ?it/s]"
      ]
     },
     "metadata": {},
     "output_type": "display_data"
    },
    {
     "name": "stdout",
     "output_type": "stream",
     "text": [
      "Epoch:  13 . Loss:  5.504068257132369\n",
      "Loss gain: 6.28%\n"
     ]
    },
    {
     "data": {
      "application/vnd.jupyter.widget-view+json": {
       "model_id": "fd9f03f83e8e497898aa4b174a2e9e74",
       "version_major": 2,
       "version_minor": 0
      },
      "text/plain": [
       "  0%|          | 0/349 [00:00<?, ?it/s]"
      ]
     },
     "metadata": {},
     "output_type": "display_data"
    },
    {
     "name": "stdout",
     "output_type": "stream",
     "text": [
      "Epoch:  14 . Loss:  5.437409077127889\n",
      "Loss gain: 5.61%\n"
     ]
    },
    {
     "data": {
      "application/vnd.jupyter.widget-view+json": {
       "model_id": "d93c687f3bbe4ebdbbe2fb1d4936b002",
       "version_major": 2,
       "version_minor": 0
      },
      "text/plain": [
       "  0%|          | 0/349 [00:00<?, ?it/s]"
      ]
     },
     "metadata": {},
     "output_type": "display_data"
    },
    {
     "name": "stdout",
     "output_type": "stream",
     "text": [
      "Epoch:  15 . Loss:  5.376955841195618\n",
      "Loss gain: 5.07%\n"
     ]
    },
    {
     "data": {
      "application/vnd.jupyter.widget-view+json": {
       "model_id": "c08a241c1db94637a798bad5c585174d",
       "version_major": 2,
       "version_minor": 0
      },
      "text/plain": [
       "  0%|          | 0/349 [00:00<?, ?it/s]"
      ]
     },
     "metadata": {},
     "output_type": "display_data"
    },
    {
     "name": "stdout",
     "output_type": "stream",
     "text": [
      "Epoch:  16 . Loss:  5.322566000984869\n",
      "Loss gain: 4.6%\n"
     ]
    },
    {
     "data": {
      "application/vnd.jupyter.widget-view+json": {
       "model_id": "b70bc4839df145fd8b7cbc91fd1cb55a",
       "version_major": 2,
       "version_minor": 0
      },
      "text/plain": [
       "  0%|          | 0/349 [00:00<?, ?it/s]"
      ]
     },
     "metadata": {},
     "output_type": "display_data"
    },
    {
     "name": "stdout",
     "output_type": "stream",
     "text": [
      "Epoch:  17 . Loss:  5.272647665018338\n",
      "Loss gain: 4.2%\n"
     ]
    },
    {
     "data": {
      "application/vnd.jupyter.widget-view+json": {
       "model_id": "4685875c72a548408d6faa2fa4f14552",
       "version_major": 2,
       "version_minor": 0
      },
      "text/plain": [
       "  0%|          | 0/349 [00:00<?, ?it/s]"
      ]
     },
     "metadata": {},
     "output_type": "display_data"
    },
    {
     "name": "stdout",
     "output_type": "stream",
     "text": [
      "Epoch:  18 . Loss:  5.227473424293933\n",
      "Loss gain: 3.86%\n"
     ]
    },
    {
     "data": {
      "application/vnd.jupyter.widget-view+json": {
       "model_id": "2e576ab430e54bdb8dd8fb21c74e20bf",
       "version_major": 2,
       "version_minor": 0
      },
      "text/plain": [
       "  0%|          | 0/349 [00:00<?, ?it/s]"
      ]
     },
     "metadata": {},
     "output_type": "display_data"
    },
    {
     "name": "stdout",
     "output_type": "stream",
     "text": [
      "Epoch:  19 . Loss:  5.185552823850965\n",
      "Loss gain: 3.56%\n"
     ]
    },
    {
     "data": {
      "application/vnd.jupyter.widget-view+json": {
       "model_id": "08be1104679b4ed2b079bd343e793834",
       "version_major": 2,
       "version_minor": 0
      },
      "text/plain": [
       "  0%|          | 0/349 [00:00<?, ?it/s]"
      ]
     },
     "metadata": {},
     "output_type": "display_data"
    },
    {
     "name": "stdout",
     "output_type": "stream",
     "text": [
      "Epoch:  20 . Loss:  5.147435363179292\n",
      "Loss gain: 3.29%\n"
     ]
    },
    {
     "data": {
      "application/vnd.jupyter.widget-view+json": {
       "model_id": "007b624d20314c2a85539e25b12edb34",
       "version_major": 2,
       "version_minor": 0
      },
      "text/plain": [
       "  0%|          | 0/349 [00:00<?, ?it/s]"
      ]
     },
     "metadata": {},
     "output_type": "display_data"
    },
    {
     "name": "stdout",
     "output_type": "stream",
     "text": [
      "Epoch:  21 . Loss:  5.11157504603651\n",
      "Loss gain: 3.05%\n"
     ]
    },
    {
     "data": {
      "application/vnd.jupyter.widget-view+json": {
       "model_id": "6a2467adc5dc44c88d770fa106549c9c",
       "version_major": 2,
       "version_minor": 0
      },
      "text/plain": [
       "  0%|          | 0/349 [00:00<?, ?it/s]"
      ]
     },
     "metadata": {},
     "output_type": "display_data"
    },
    {
     "name": "stdout",
     "output_type": "stream",
     "text": [
      "Epoch:  22 . Loss:  5.078732640832065\n",
      "Loss gain: 2.85%\n"
     ]
    },
    {
     "data": {
      "application/vnd.jupyter.widget-view+json": {
       "model_id": "a94a272797494b5aa286a0b97c69a0bb",
       "version_major": 2,
       "version_minor": 0
      },
      "text/plain": [
       "  0%|          | 0/349 [00:00<?, ?it/s]"
      ]
     },
     "metadata": {},
     "output_type": "display_data"
    },
    {
     "name": "stdout",
     "output_type": "stream",
     "text": [
      "Epoch:  23 . Loss:  5.048060899477633\n",
      "Loss gain: 2.65%\n"
     ]
    },
    {
     "data": {
      "application/vnd.jupyter.widget-view+json": {
       "model_id": "efe90ee6520c4c4e9a135f9e46484abb",
       "version_major": 2,
       "version_minor": 0
      },
      "text/plain": [
       "  0%|          | 0/349 [00:00<?, ?it/s]"
      ]
     },
     "metadata": {},
     "output_type": "display_data"
    },
    {
     "name": "stdout",
     "output_type": "stream",
     "text": [
      "Epoch:  24 . Loss:  5.01964980073508\n",
      "Loss gain: 2.48%\n"
     ]
    },
    {
     "data": {
      "application/vnd.jupyter.widget-view+json": {
       "model_id": "2c80d459504b4b698487b271d2c35b74",
       "version_major": 2,
       "version_minor": 0
      },
      "text/plain": [
       "  0%|          | 0/349 [00:00<?, ?it/s]"
      ]
     },
     "metadata": {},
     "output_type": "display_data"
    },
    {
     "name": "stdout",
     "output_type": "stream",
     "text": [
      "Epoch:  25 . Loss:  4.992918517323141\n",
      "Loss gain: 2.32%\n"
     ]
    },
    {
     "data": {
      "application/vnd.jupyter.widget-view+json": {
       "model_id": "fced717085224943a4f2fe17ce4d28eb",
       "version_major": 2,
       "version_minor": 0
      },
      "text/plain": [
       "  0%|          | 0/349 [00:00<?, ?it/s]"
      ]
     },
     "metadata": {},
     "output_type": "display_data"
    },
    {
     "name": "stdout",
     "output_type": "stream",
     "text": [
      "Epoch:  26 . Loss:  4.967985448318088\n",
      "Loss gain: 2.18%\n"
     ]
    },
    {
     "data": {
      "application/vnd.jupyter.widget-view+json": {
       "model_id": "6198fc5ca98a49d9aab748c0ee82881e",
       "version_major": 2,
       "version_minor": 0
      },
      "text/plain": [
       "  0%|          | 0/349 [00:00<?, ?it/s]"
      ]
     },
     "metadata": {},
     "output_type": "display_data"
    },
    {
     "name": "stdout",
     "output_type": "stream",
     "text": [
      "Epoch:  27 . Loss:  4.94468376219785\n",
      "Loss gain: 2.05%\n"
     ]
    },
    {
     "data": {
      "application/vnd.jupyter.widget-view+json": {
       "model_id": "66cff35dee8d40f3b71257d099b64388",
       "version_major": 2,
       "version_minor": 0
      },
      "text/plain": [
       "  0%|          | 0/349 [00:00<?, ?it/s]"
      ]
     },
     "metadata": {},
     "output_type": "display_data"
    },
    {
     "name": "stdout",
     "output_type": "stream",
     "text": [
      "Epoch:  28 . Loss:  4.9227856141448365\n",
      "Loss gain: 1.93%\n"
     ]
    },
    {
     "data": {
      "application/vnd.jupyter.widget-view+json": {
       "model_id": "7db7000b4f6c4d76bb6fa51dca57671a",
       "version_major": 2,
       "version_minor": 0
      },
      "text/plain": [
       "  0%|          | 0/349 [00:00<?, ?it/s]"
      ]
     },
     "metadata": {},
     "output_type": "display_data"
    },
    {
     "name": "stdout",
     "output_type": "stream",
     "text": [
      "Epoch:  29 . Loss:  4.902128961502993\n",
      "Loss gain: 1.82%\n"
     ]
    },
    {
     "data": {
      "application/vnd.jupyter.widget-view+json": {
       "model_id": "9398dbb4b0d346a186a52fd5fdca3b28",
       "version_major": 2,
       "version_minor": 0
      },
      "text/plain": [
       "  0%|          | 0/349 [00:00<?, ?it/s]"
      ]
     },
     "metadata": {},
     "output_type": "display_data"
    },
    {
     "name": "stdout",
     "output_type": "stream",
     "text": [
      "Epoch:  30 . Loss:  4.883149294593614\n",
      "Loss gain: 1.71%\n"
     ]
    },
    {
     "data": {
      "application/vnd.jupyter.widget-view+json": {
       "model_id": "3221843f8eb041e8ab7468f4cf5f37ed",
       "version_major": 2,
       "version_minor": 0
      },
      "text/plain": [
       "  0%|          | 0/349 [00:00<?, ?it/s]"
      ]
     },
     "metadata": {},
     "output_type": "display_data"
    },
    {
     "name": "stdout",
     "output_type": "stream",
     "text": [
      "Epoch:  31 . Loss:  4.864517653227535\n",
      "Loss gain: 1.62%\n"
     ]
    },
    {
     "data": {
      "application/vnd.jupyter.widget-view+json": {
       "model_id": "3d404d78fb114ddc82de0a746f03f34b",
       "version_major": 2,
       "version_minor": 0
      },
      "text/plain": [
       "  0%|          | 0/349 [00:00<?, ?it/s]"
      ]
     },
     "metadata": {},
     "output_type": "display_data"
    },
    {
     "name": "stdout",
     "output_type": "stream",
     "text": [
      "Epoch:  32 . Loss:  4.847328140947402\n",
      "Loss gain: 1.53%\n"
     ]
    },
    {
     "data": {
      "application/vnd.jupyter.widget-view+json": {
       "model_id": "c104bbfab3d449eea72d634c60353f82",
       "version_major": 2,
       "version_minor": 0
      },
      "text/plain": [
       "  0%|          | 0/349 [00:00<?, ?it/s]"
      ]
     },
     "metadata": {},
     "output_type": "display_data"
    },
    {
     "name": "stdout",
     "output_type": "stream",
     "text": [
      "Epoch:  33 . Loss:  4.831198835782813\n",
      "Loss gain: 1.45%\n"
     ]
    },
    {
     "data": {
      "application/vnd.jupyter.widget-view+json": {
       "model_id": "e5ac48cf5e3c4419ba9f8cf46d3b138c",
       "version_major": 2,
       "version_minor": 0
      },
      "text/plain": [
       "  0%|          | 0/349 [00:00<?, ?it/s]"
      ]
     },
     "metadata": {},
     "output_type": "display_data"
    },
    {
     "name": "stdout",
     "output_type": "stream",
     "text": [
      "Epoch:  34 . Loss:  4.815907802144572\n",
      "Loss gain: 1.38%\n"
     ]
    },
    {
     "data": {
      "application/vnd.jupyter.widget-view+json": {
       "model_id": "02b54530087b4531b2fcc108720d6015",
       "version_major": 2,
       "version_minor": 0
      },
      "text/plain": [
       "  0%|          | 0/349 [00:00<?, ?it/s]"
      ]
     },
     "metadata": {},
     "output_type": "display_data"
    },
    {
     "name": "stdout",
     "output_type": "stream",
     "text": [
      "Epoch:  35 . Loss:  4.801674863328906\n",
      "Loss gain: 1.29%\n"
     ]
    },
    {
     "data": {
      "application/vnd.jupyter.widget-view+json": {
       "model_id": "27fa48045bbe485b871b02e70360020a",
       "version_major": 2,
       "version_minor": 0
      },
      "text/plain": [
       "  0%|          | 0/349 [00:00<?, ?it/s]"
      ]
     },
     "metadata": {},
     "output_type": "display_data"
    },
    {
     "name": "stdout",
     "output_type": "stream",
     "text": [
      "Epoch:  36 . Loss:  4.787580226417258\n",
      "Loss gain: 1.23%\n"
     ]
    },
    {
     "data": {
      "application/vnd.jupyter.widget-view+json": {
       "model_id": "bc5e6fd389ae4c9eafd77fe98c272c27",
       "version_major": 2,
       "version_minor": 0
      },
      "text/plain": [
       "  0%|          | 0/349 [00:00<?, ?it/s]"
      ]
     },
     "metadata": {},
     "output_type": "display_data"
    },
    {
     "name": "stdout",
     "output_type": "stream",
     "text": [
      "Epoch:  37 . Loss:  4.774741381833752\n",
      "Loss gain: 1.17%\n"
     ]
    },
    {
     "data": {
      "application/vnd.jupyter.widget-view+json": {
       "model_id": "7343f2f42ec14762a6433faca494f82d",
       "version_major": 2,
       "version_minor": 0
      },
      "text/plain": [
       "  0%|          | 0/349 [00:00<?, ?it/s]"
      ]
     },
     "metadata": {},
     "output_type": "display_data"
    },
    {
     "name": "stdout",
     "output_type": "stream",
     "text": [
      "Epoch:  38 . Loss:  4.762423934772568\n",
      "Loss gain: 1.11%\n"
     ]
    },
    {
     "data": {
      "application/vnd.jupyter.widget-view+json": {
       "model_id": "9957e0593dfa4f0b817b44afe863f256",
       "version_major": 2,
       "version_minor": 0
      },
      "text/plain": [
       "  0%|          | 0/349 [00:00<?, ?it/s]"
      ]
     },
     "metadata": {},
     "output_type": "display_data"
    },
    {
     "name": "stdout",
     "output_type": "stream",
     "text": [
      "Epoch:  39 . Loss:  4.750629777553089\n",
      "Loss gain: 1.06%\n",
      "CPU times: user 8min 31s, sys: 5.74 s, total: 8min 37s\n",
      "Wall time: 8min 42s\n"
     ]
    }
   ],
   "source": [
    "%%time\n",
    "\n",
    "vocabulary_size = len(vocabulary)\n",
    "\n",
    "loss_function = nn.CrossEntropyLoss()\n",
    "net = Word2Vec(embedding_size=225, vocab_size=vocabulary_size).to(dev)\n",
    "optimizer = optim.Adam(net.parameters())\n",
    "early_stopping = EarlyStopping(patience=5, min_percent_gain=1)\n",
    "\n",
    "for ep in range(40):\n",
    "    losses = []\n",
    "    graph_losses = []\n",
    "    context_tuple_batches = get_batches(context_tuple_list, batch_size=1000)\n",
    "    for i in trange(len(context_tuple_batches)):\n",
    "#     for i in range(len(context_tuple_batches)):\n",
    "        activations = []\n",
    "        net.zero_grad()\n",
    "        target_tensor, context_tensor = context_tuple_batches[i]\n",
    "        target_tensor, context_tensor = target_tensor.to(dev), context_tensor.to(dev)\n",
    "        log_probs = net(context_tensor)\n",
    "        loss = loss_function(log_probs, target_tensor)\n",
    "\n",
    "#         gl = graph_loss(activations[-1], lap_torch) * 1.0\n",
    "#         graph_losses.append(gl.data.item())\n",
    "        losses.append(loss.data.item())\n",
    "        \n",
    "#         loss += gl\n",
    "\n",
    "        loss.backward()\n",
    "        optimizer.step()\n",
    "    del loss, target_tensor, context_tensor, log_probs\n",
    "    clean_mem()\n",
    "\n",
    "    print(\"Epoch: \", ep, \". Loss: \", np.mean(losses))\n",
    "#     print(\"Epocj: \", ep, \". Loss: \", np.mean(losses), \". Graph loss: \", np.mean(graph_losses))\n",
    "    early_stopping.update_loss(np.mean(losses))\n",
    "    if early_stopping.stop_training():\n",
    "        break"
   ]
  },
  {
   "cell_type": "code",
   "execution_count": 17,
   "id": "ecological-progressive",
   "metadata": {},
   "outputs": [],
   "source": [
    "def get_closest_word(word, topn=5):\n",
    "    word_distance = []\n",
    "    emb = net.embeddings\n",
    "    pdist = nn.PairwiseDistance()\n",
    "    i = word_to_index[word]\n",
    "    lookup_tensor_i = torch.tensor([i], dtype=torch.long).to(dev)\n",
    "    v_i = emb(lookup_tensor_i)\n",
    "#     sw = set(stopwords.words('english'))\n",
    "    for j in range(len(vocabulary)):\n",
    "        if j != i:\n",
    "            lookup_tensor_j = torch.tensor([j], dtype=torch.long).to(dev)\n",
    "            v_j = emb(lookup_tensor_j)\n",
    "            w_j = index_to_word[j]\n",
    "#             if w_j in sw:\n",
    "#                 continue\n",
    "            word_distance.append((w_j, float(pdist(v_i, v_j))))\n",
    "    word_distance.sort(key=lambda x: x[1])\n",
    "    return word_distance[:topn]"
   ]
  },
  {
   "cell_type": "code",
   "execution_count": 32,
   "id": "collective-medline",
   "metadata": {},
   "outputs": [
    {
     "data": {
      "text/plain": [
       "[('fleisher', 18.722606658935547),\n",
       " ('enlarge', 18.83080291748047),\n",
       " ('brain', 18.929447174072266),\n",
       " ('outclassed', 18.946792602539062),\n",
       " ('bandstand', 18.9520206451416),\n",
       " ('governs', 19.096294403076172),\n",
       " ('friends', 19.102394104003906),\n",
       " ('freida', 19.13754653930664),\n",
       " ('adverse', 19.1530818939209),\n",
       " ('dillon', 19.16147232055664)]"
      ]
     },
     "execution_count": 32,
     "metadata": {},
     "output_type": "execute_result"
    }
   ],
   "source": [
    "get_closest_word('president', 10)"
   ]
  },
  {
   "cell_type": "markdown",
   "id": "clinical-forge",
   "metadata": {
    "tags": []
   },
   "source": [
    "## Optimized"
   ]
  },
  {
   "cell_type": "markdown",
   "id": "going-treaty",
   "metadata": {},
   "source": [
    "Would be cool to train an embedding, which checks what words can be presented in any place. Perhaps, prediction quality should be a reasonable metric."
   ]
  },
  {
   "cell_type": "code",
   "execution_count": 12,
   "id": "innovative-machine",
   "metadata": {},
   "outputs": [
    {
     "data": {
      "application/vnd.jupyter.widget-view+json": {
       "model_id": "66c0e4fba7ec4089ae75217f1b8b39cc",
       "version_major": 2,
       "version_minor": 0
      },
      "text/plain": [
       "  0%|          | 0/3367021 [00:00<?, ?it/s]"
      ]
     },
     "metadata": {},
     "output_type": "display_data"
    },
    {
     "name": "stdout",
     "output_type": "stream",
     "text": [
      "There are 1031838297 pairs of target and context words\n",
      "CPU times: user 30.5 ms, sys: 17.9 s, total: 17.9 s\n",
      "Wall time: 18.3 s\n"
     ]
    }
   ],
   "source": [
    "# w = 4\n",
    "\n",
    "# ids = np.arange(len(corpus), dtype=int)\n",
    "# np.random.shuffle(ids)\n",
    "# targ_lst = []\n",
    "# cont_lst = []\n",
    "\n",
    "# for ti in tqdm(ids):\n",
    "#     text = corpus[ti]\n",
    "#     for i, word in enumerate(text):\n",
    "#         first_context_word_index = max(0,i-w)\n",
    "#         last_context_word_index = min(i+w, len(text))\n",
    "#         for j in range(first_context_word_index, last_context_word_index):\n",
    "#             if i!=j:\n",
    "#                 targ_lst.append(word_to_index[word])\n",
    "#                 cont_lst.append(word_to_index[text[j]])\n",
    "# print(\"There are {} pairs of target and context words\".format(len(cont_lst)))\n",
    "# targ_lst = np.array(targ_lst)\n",
    "# cont_lst = np.array(cont_lst)\n",
    "\n",
    "# %time pd.to_pickle((targ_lst, cont_lst), \"./cache/context_tuple_list_arxiv.pkl\")"
   ]
  },
  {
   "cell_type": "code",
   "execution_count": 5,
   "id": "tamil-addition",
   "metadata": {},
   "outputs": [
    {
     "name": "stdout",
     "output_type": "stream",
     "text": [
      "CPU times: user 353 µs, sys: 6.02 s, total: 6.02 s\n",
      "Wall time: 6.04 s\n"
     ]
    }
   ],
   "source": [
    "%time targ_lst, cont_lst = pd.read_pickle(\"./cache/context_tuple_list_arxiv.pkl\")"
   ]
  },
  {
   "cell_type": "code",
   "execution_count": 6,
   "id": "ahead-firewall",
   "metadata": {},
   "outputs": [
    {
     "data": {
      "text/plain": [
       "graph        35021\n",
       "vertex       16969\n",
       "edge         12273\n",
       "number       10956\n",
       "random       10779\n",
       "network       9949\n",
       "problem       9687\n",
       "set           7987\n",
       "connected     7300\n",
       "class         7221\n",
       "algorithm     7144\n",
       "based         6576\n",
       "given         6329\n",
       "show          6264\n",
       "complete      6246\n",
       "dtype: int64"
      ]
     },
     "execution_count": 6,
     "metadata": {},
     "output_type": "execute_result"
    }
   ],
   "source": [
    "pd.value_counts(index_to_word[cont_lst[targ_lst == word_to_index[\"graph\"]]])[:15]"
   ]
  },
  {
   "cell_type": "code",
   "execution_count": 23,
   "id": "brown-supplement",
   "metadata": {},
   "outputs": [],
   "source": [
    "class Word2Vec(nn.Module):\n",
    "\n",
    "    def __init__(self, embedding_size, vocab_size):\n",
    "        super(Word2Vec, self).__init__()\n",
    "        self.embeddings_target = nn.Embedding(vocab_size, embedding_size)\n",
    "        self.embeddings_context = nn.Embedding(vocab_size, embedding_size)\n",
    "#         embeddings_target = nn.Embedding(vocab_size, embedding_size)\n",
    "#         embeddings_context = nn.Embedding(vocab_size, embedding_size)\n",
    "\n",
    "#         self.embeddings_context = nn.Embedding(vocab_size, embedding_size, _weight=embeddings_context.weight.to(dtype=torch.half))\n",
    "#         self.embeddings_target = nn.Embedding(vocab_size, embedding_size, _weight=embeddings_target.weight.to(dtype=torch.half))\n",
    "\n",
    "    def forward(self, target_word, context_word, negative_example):\n",
    "        emb_target = self.embeddings_target(target_word)\n",
    "        emb_context = self.embeddings_context(context_word)\n",
    "        emb_product = torch.mul(emb_target, emb_context)\n",
    "        emb_product = torch.sum(emb_product, dim=1)\n",
    "        out = torch.sum(F.logsigmoid(emb_product))\n",
    "        emb_negative = self.embeddings_context(negative_example)\n",
    "        emb_product = torch.bmm(emb_negative, emb_target.unsqueeze(2))\n",
    "        emb_product = torch.sum(emb_product, dim=1)\n",
    "        out += torch.sum(F.logsigmoid(-emb_product))\n",
    "        return -out\n",
    "\n",
    "def graph_loss(activations, lap):\n",
    "    return (activations.mm(lap) * activations).sum() / activations.shape[1]"
   ]
  },
  {
   "cell_type": "markdown",
   "id": "bizarre-acrobat",
   "metadata": {
    "tags": []
   },
   "source": [
    "### Basic word2vec"
   ]
  },
  {
   "cell_type": "code",
   "execution_count": 27,
   "id": "established-warehouse",
   "metadata": {},
   "outputs": [],
   "source": [
    "del loss, losses, optimizer, net\n",
    "gc.collect()\n",
    "torch.cuda.empty_cache()"
   ]
  },
  {
   "cell_type": "code",
   "execution_count": 28,
   "id": "computational-rebate",
   "metadata": {},
   "outputs": [],
   "source": [
    "net = Word2Vec(embedding_size=22**2, vocab_size=len(vocabulary)).to(dev)\n",
    "optimizer = optim.Adam(net.parameters())\n",
    "batch_size = 25000\n",
    "\n",
    "losses = []"
   ]
  },
  {
   "cell_type": "code",
   "execution_count": 29,
   "id": "composed-diana",
   "metadata": {},
   "outputs": [
    {
     "data": {
      "application/vnd.jupyter.widget-view+json": {
       "model_id": "4762cf43ff32444f99c65461db59ccd8",
       "version_major": 2,
       "version_minor": 0
      },
      "text/plain": [
       "  0%|          | 0/41274 [00:00<?, ?it/s]"
      ]
     },
     "metadata": {},
     "output_type": "display_data"
    },
    {
     "name": "stdout",
     "output_type": "stream",
     "text": [
      "CPU times: user 2h 59min 29s, sys: 11.8 s, total: 2h 59min 41s\n",
      "Wall time: 2h 59min 51s\n"
     ]
    }
   ],
   "source": [
    "%%time\n",
    "\n",
    "p_iter = trange(0, targ_lst.size, batch_size)\n",
    "for batch_start in p_iter:\n",
    "    neg_words = np.random.choice(sample_probability.index.values, size=(min(len(targ_lst) - batch_start, batch_size), 5), p=sample_probability.values)\n",
    "    target_tensor = torch.from_numpy(targ_lst[batch_start:(batch_start + batch_size)]).long().to(dev)\n",
    "    context_tensor = torch.from_numpy(cont_lst[batch_start:(batch_start + batch_size)]).long().to(dev)\n",
    "    neg_tensor = torch.from_numpy(neg_words).long().to(dev)\n",
    "\n",
    "    net.zero_grad()\n",
    "    loss = net(target_tensor, context_tensor, neg_tensor)\n",
    "    losses.append(loss.data.item())\n",
    "\n",
    "    loss.backward()\n",
    "    optimizer.step()\n",
    "\n",
    "    p_iter.set_postfix({\"loss\": np.round(losses[-1])})"
   ]
  },
  {
   "cell_type": "code",
   "execution_count": 31,
   "id": "cellular-captain",
   "metadata": {},
   "outputs": [],
   "source": [
    "# torch.save(net.cpu(), \"./models/w2v_arxiv.pkl\")\n",
    "torch.save(net.state_dict(), \"./models/w2v_arxiv_state_484.pth\")"
   ]
  },
  {
   "cell_type": "code",
   "execution_count": 32,
   "id": "miniature-sucking",
   "metadata": {},
   "outputs": [],
   "source": [
    "net = net.cpu();\n",
    "\n",
    "activations = []\n",
    "dict(net.named_modules())['embeddings_target'].register_forward_hook(lambda mod, inp, out: activations.append(out.cpu()));"
   ]
  },
  {
   "cell_type": "code",
   "execution_count": 33,
   "id": "dramatic-opera",
   "metadata": {},
   "outputs": [
    {
     "data": {
      "application/vnd.jupyter.widget-view+json": {
       "model_id": "95f7c684d8074266aa9880b62af5dbc9",
       "version_major": 2,
       "version_minor": 0
      },
      "text/plain": [
       "  0%|          | 0/107727 [00:00<?, ?it/s]"
      ]
     },
     "metadata": {},
     "output_type": "display_data"
    }
   ],
   "source": [
    "activations = []\n",
    "lookup_table = {k: net.embeddings_target(torch.tensor([word_to_index[k]], dtype=torch.long)).detach().numpy() for k in tqdm(vocabulary)}\n",
    "lookup_table = pd.Series(lookup_table)[vocabulary]\n",
    "emb_mat = np.concatenate(lookup_table.values)\n",
    "\n",
    "joint_activations = torch.vstack(activations).detach().numpy()\n",
    "adj_mat = create_graph_from_embedding(joint_activations.T, 'knn')"
   ]
  },
  {
   "cell_type": "code",
   "execution_count": 34,
   "id": "opponent-coupon",
   "metadata": {},
   "outputs": [
    {
     "data": {
      "image/png": "[encoded data removed]",
      "text/plain": [
       "<Figure size 432x288 with 1 Axes>"
      ]
     },
     "metadata": {
      "needs_background": "light"
     },
     "output_type": "display_data"
    }
   ],
   "source": [
    "spec_emb = SpectralEmbedding(affinity='precomputed').fit_transform(adj_mat)\n",
    "clust_labels = cluster.k_means(spec_emb, 8)[1]\n",
    "\n",
    "for i in set(clust_labels):\n",
    "    mask = (clust_labels == i)\n",
    "    plt.scatter(spec_emb[mask,0], spec_emb[mask,1], s=5, label=i)\n",
    "plt.legend();"
   ]
  },
  {
   "cell_type": "markdown",
   "id": "continental-mauritius",
   "metadata": {
    "tags": []
   },
   "source": [
    "### Graph-regularized (grid)"
   ]
  },
  {
   "cell_type": "code",
   "execution_count": 33,
   "id": "orange-warehouse",
   "metadata": {},
   "outputs": [],
   "source": [
    "lap_csr = nx.linalg.normalized_laplacian_matrix(nx.grid_graph((15, 15)))\n",
    "# coo = sparse.coo_matrix(lap_csr)\n",
    "# values = coo.data\n",
    "# indices = np.vstack((coo.row, coo.col))\n",
    "\n",
    "# lap_torch = torch.sparse.FloatTensor(torch.LongTensor(indices), torch.FloatTensor(values), torch.Size(coo.shape))\n",
    "\n",
    "lap_torch = torch.Tensor(lap_csr.A)"
   ]
  },
  {
   "cell_type": "code",
   "execution_count": 39,
   "id": "collaborative-portsmouth",
   "metadata": {},
   "outputs": [
    {
     "data": {
      "application/vnd.jupyter.widget-view+json": {
       "model_id": "810c1ba2f1b9438897e5c153d7e560fd",
       "version_major": 2,
       "version_minor": 0
      },
      "text/plain": [
       "  0%|          | 0/41274 [00:00<?, ?it/s]"
      ]
     },
     "metadata": {},
     "output_type": "display_data"
    },
    {
     "name": "stdout",
     "output_type": "stream",
     "text": [
      "CPU times: user 5h 45min 14s, sys: 12min 36s, total: 5h 57min 50s\n",
      "Wall time: 1h 41min 53s\n"
     ]
    }
   ],
   "source": [
    "%%time\n",
    "\n",
    "net_graph = Word2Vec(embedding_size=225, vocab_size=len(vocabulary)).to(dev)\n",
    "optimizer = optim.Adam(net_graph.parameters())\n",
    "batch_size = 25000\n",
    "\n",
    "activations = []\n",
    "dict(net_graph.named_modules())['embeddings_target'].register_forward_hook(lambda mod, inp, out: activations.append(out.cpu()));\n",
    "\n",
    "losses = []\n",
    "graph_losses = []\n",
    "p_iter = trange(0, targ_lst.size, batch_size)\n",
    "for batch_start in p_iter:\n",
    "    neg_words = np.random.choice(sample_probability.index.values, size=(min(len(targ_lst) - batch_start, batch_size), 5), p=sample_probability.values)\n",
    "    target_tensor, context_tensor, neg_tensor = [torch.from_numpy(x).long().to(dev) for x in (targ_lst[batch_start:(batch_start + batch_size)], cont_lst[batch_start:(batch_start + batch_size)], neg_words)]\n",
    "\n",
    "    activations = []\n",
    "    net_graph.zero_grad()\n",
    "    loss = net_graph(target_tensor, context_tensor, neg_tensor)\n",
    "\n",
    "    gl = graph_loss(activations[-1], lap_torch) * 10.0\n",
    "    graph_losses.append(gl.data.item())\n",
    "    losses.append(loss.data.item())\n",
    "    loss += gl\n",
    "\n",
    "    loss.backward()\n",
    "    optimizer.step()\n",
    "    p_iter.set_postfix({\"loss\": np.round(losses[-1]), \"graph\": np.round(graph_losses[-1])})"
   ]
  },
  {
   "cell_type": "code",
   "execution_count": 87,
   "id": "included-parliament",
   "metadata": {},
   "outputs": [],
   "source": [
    "torch.save(net_graph.state_dict(), \"./models/w2v_arxiv_graph_state.pth\")"
   ]
  },
  {
   "cell_type": "code",
   "execution_count": 40,
   "id": "confident-slovenia",
   "metadata": {},
   "outputs": [],
   "source": [
    "import matplotlib.pyplot as plt"
   ]
  },
  {
   "cell_type": "code",
   "execution_count": 41,
   "id": "incoming-source",
   "metadata": {},
   "outputs": [
    {
     "data": {
      "image/png": "[encoded data removed]",
      "text/plain": [
       "<Figure size 432x288 with 1 Axes>"
      ]
     },
     "metadata": {
      "needs_background": "light"
     },
     "output_type": "display_data"
    }
   ],
   "source": [
    "plt.plot(np.log10(losses), label=\"Prediction\")\n",
    "plt.plot(np.log10(graph_losses), label=\"Graph\")\n",
    "plt.ylabel(\"log10(loss)\")\n",
    "plt.legend();"
   ]
  },
  {
   "cell_type": "markdown",
   "id": "straight-oxford",
   "metadata": {
    "tags": []
   },
   "source": [
    "#### Evaluation"
   ]
  },
  {
   "cell_type": "code",
   "execution_count": 42,
   "id": "invisible-receipt",
   "metadata": {},
   "outputs": [],
   "source": [
    "from sklearn.metrics import pairwise\n",
    "import seaborn as sns"
   ]
  },
  {
   "cell_type": "code",
   "execution_count": 43,
   "id": "prime-supplement",
   "metadata": {},
   "outputs": [],
   "source": [
    "net_graph = net_graph.cpu();\n",
    "net = net.cpu();"
   ]
  },
  {
   "cell_type": "code",
   "execution_count": 68,
   "id": "sonic-deviation",
   "metadata": {},
   "outputs": [
    {
     "data": {
      "application/vnd.jupyter.widget-view+json": {
       "model_id": "c43536b022fb48738d4ddab9dda1b826",
       "version_major": 2,
       "version_minor": 0
      },
      "text/plain": [
       "  0%|          | 0/107727 [00:00<?, ?it/s]"
      ]
     },
     "metadata": {},
     "output_type": "display_data"
    },
    {
     "data": {
      "application/vnd.jupyter.widget-view+json": {
       "model_id": "d96d575ccf214096a16825af281308dc",
       "version_major": 2,
       "version_minor": 0
      },
      "text/plain": [
       "  0%|          | 0/107727 [00:00<?, ?it/s]"
      ]
     },
     "metadata": {},
     "output_type": "display_data"
    }
   ],
   "source": [
    "lookup_table_graph = {k: net_graph.embeddings_target(torch.tensor([word_to_index[k]], dtype=torch.long)).detach().numpy() for k in tqdm(vocabulary)}\n",
    "lookup_table_graph = pd.Series(lookup_table_graph)[vocabulary]\n",
    "lookup_table = {k: net.embeddings_target(torch.tensor([word_to_index[k]], dtype=torch.long)).detach().numpy() for k in tqdm(vocabulary)}\n",
    "lookup_table = pd.Series(lookup_table)[vocabulary]\n",
    "\n",
    "emb_mat_graph = np.concatenate(lookup_table_graph.values)\n",
    "emb_mat = np.concatenate(lookup_table.values)"
   ]
  },
  {
   "cell_type": "code",
   "execution_count": 31,
   "id": "utility-assault",
   "metadata": {},
   "outputs": [
    {
     "data": {
      "text/plain": [
       "array(['paper', 'article', 'work', 'idea', 'aim'], dtype=object)"
      ]
     },
     "execution_count": 31,
     "metadata": {},
     "output_type": "execute_result"
    }
   ],
   "source": [
    "lookup_table.index.values[pairwise.cosine_similarity(emb_mat, lookup_table['paper']).flatten().argsort()[::-1][:5]]"
   ]
  },
  {
   "cell_type": "code",
   "execution_count": 46,
   "id": "multiple-cooper",
   "metadata": {},
   "outputs": [
    {
     "data": {
      "text/plain": [
       "array(['paper', 'article', 'work', 'idea', 'concept'], dtype=object)"
      ]
     },
     "execution_count": 46,
     "metadata": {},
     "output_type": "execute_result"
    }
   ],
   "source": [
    "lookup_table.index.values[pairwise.cosine_similarity(emb_mat, lookup_table['paper']).flatten().argsort()[::-1][:5]]"
   ]
  },
  {
   "cell_type": "code",
   "execution_count": 58,
   "id": "forty-tours",
   "metadata": {},
   "outputs": [
    {
     "data": {
      "text/plain": [
       "array(['man', 'conflicting', 'geographic', 'inspect', 'abnormal'],\n",
       "      dtype=object)"
      ]
     },
     "execution_count": 58,
     "metadata": {},
     "output_type": "execute_result"
    }
   ],
   "source": [
    "lookup_table.index.values[pairwise.cosine_similarity(emb_mat, lookup_table['man']).flatten().argsort()[::-1][:5]]"
   ]
  },
  {
   "cell_type": "code",
   "execution_count": 77,
   "id": "processed-coating",
   "metadata": {},
   "outputs": [
    {
     "data": {
      "image/png": "[encoded data removed]",
      "text/plain": [
       "<Figure size 432x288 with 1 Axes>"
      ]
     },
     "metadata": {
      "needs_background": "light"
     },
     "output_type": "display_data"
    }
   ],
   "source": [
    "plt.bar(np.arange(225), lookup_table[\"article\"].flatten())\n",
    "plt.xlabel(\"Embedding coordinate\"); plt.ylabel(\"Value\"); plt.title(\"Word 'article'\");"
   ]
  },
  {
   "cell_type": "code",
   "execution_count": 78,
   "id": "leading-message",
   "metadata": {},
   "outputs": [
    {
     "data": {
      "image/png": "[encoded data removed]",
      "text/plain": [
       "<Figure size 432x288 with 1 Axes>"
      ]
     },
     "metadata": {
      "needs_background": "light"
     },
     "output_type": "display_data"
    }
   ],
   "source": [
    "plt.bar(np.arange(225), lookup_table[\"paper\"].flatten())\n",
    "plt.xlabel(\"Embedding coordinate\"); plt.ylabel(\"Value\"); plt.title(\"Word 'paper'\");"
   ]
  },
  {
   "cell_type": "code",
   "execution_count": 79,
   "id": "sublime-reputation",
   "metadata": {},
   "outputs": [
    {
     "data": {
      "image/png": "[encoded data removed]",
      "text/plain": [
       "<Figure size 432x288 with 2 Axes>"
      ]
     },
     "metadata": {
      "needs_background": "light"
     },
     "output_type": "display_data"
    }
   ],
   "source": [
    "sns.heatmap(lookup_table[\"article\"].reshape(15, 15), center=0);\n",
    "plt.title(\"Word 'article'\");"
   ]
  },
  {
   "cell_type": "code",
   "execution_count": 80,
   "id": "ordered-minister",
   "metadata": {},
   "outputs": [
    {
     "data": {
      "image/png": "[encoded data removed]",
      "text/plain": [
       "<Figure size 432x288 with 2 Axes>"
      ]
     },
     "metadata": {
      "needs_background": "light"
     },
     "output_type": "display_data"
    }
   ],
   "source": [
    "sns.heatmap(lookup_table[\"paper\"].reshape(15, 15), center=0);\n",
    "plt.title(\"Word 'paper'\");"
   ]
  },
  {
   "cell_type": "code",
   "execution_count": 84,
   "id": "veterinary-cliff",
   "metadata": {},
   "outputs": [
    {
     "data": {
      "image/png": "[encoded data removed]",
      "text/plain": [
       "<Figure size 432x288 with 2 Axes>"
      ]
     },
     "metadata": {
      "needs_background": "light"
     },
     "output_type": "display_data"
    }
   ],
   "source": [
    "sns.heatmap(lookup_table_graph[\"article\"].reshape(15, 15), center=0)\n",
    "plt.title(\"Word 'article'\");"
   ]
  },
  {
   "cell_type": "code",
   "execution_count": 86,
   "id": "preceding-literacy",
   "metadata": {},
   "outputs": [
    {
     "data": {
      "image/png": "[encoded data removed]",
      "text/plain": [
       "<Figure size 432x288 with 2 Axes>"
      ]
     },
     "metadata": {
      "needs_background": "light"
     },
     "output_type": "display_data"
    }
   ],
   "source": [
    "sns.heatmap(lookup_table_graph[\"paper\"].reshape(15, 15), center=0)\n",
    "plt.title(\"Word 'paper'\");"
   ]
  },
  {
   "cell_type": "code",
   "execution_count": 65,
   "id": "sunrise-pizza",
   "metadata": {},
   "outputs": [
    {
     "data": {
      "text/plain": [
       "<AxesSubplot:>"
      ]
     },
     "execution_count": 65,
     "metadata": {},
     "output_type": "execute_result"
    },
    {
     "data": {
      "image/png": "[encoded data removed]",
      "text/plain": [
       "<Figure size 432x288 with 2 Axes>"
      ]
     },
     "metadata": {
      "needs_background": "light"
     },
     "output_type": "display_data"
    }
   ],
   "source": [
    "sns.heatmap(lookup_table[\"neuron\"].reshape(15, 15), center=0)"
   ]
  },
  {
   "cell_type": "code",
   "execution_count": 67,
   "id": "preceding-progress",
   "metadata": {},
   "outputs": [
    {
     "data": {
      "text/plain": [
       "<AxesSubplot:>"
      ]
     },
     "execution_count": 67,
     "metadata": {},
     "output_type": "execute_result"
    },
    {
     "data": {
      "image/png": "[encoded data removed]",
      "text/plain": [
       "<Figure size 432x288 with 2 Axes>"
      ]
     },
     "metadata": {
      "needs_background": "light"
     },
     "output_type": "display_data"
    }
   ],
   "source": [
    "sns.heatmap(lookup_table[\"neural\"].reshape(15, 15), center=0)"
   ]
  },
  {
   "cell_type": "markdown",
   "id": "worst-samoa",
   "metadata": {},
   "source": [
    "### Grap-regularized (k-NN)"
   ]
  },
  {
   "cell_type": "code",
   "execution_count": 102,
   "id": "selected-semiconductor",
   "metadata": {},
   "outputs": [
    {
     "data": {
      "application/vnd.jupyter.widget-view+json": {
       "model_id": "20194c928165407ab5d02f8a92766780",
       "version_major": 2,
       "version_minor": 0
      },
      "text/plain": [
       "  0%|          | 0/41274 [00:00<?, ?it/s]"
      ]
     },
     "metadata": {},
     "output_type": "display_data"
    },
    {
     "name": "stdout",
     "output_type": "stream",
     "text": [
      "CPU times: user 6h 52min 30s, sys: 20min 41s, total: 7h 13min 12s\n",
      "Wall time: 2h 15min 26s\n"
     ]
    }
   ],
   "source": [
    "%%time\n",
    "\n",
    "net_graph = Word2Vec(embedding_size=225, vocab_size=len(vocabulary)).to(dev)\n",
    "optimizer = optim.Adam(net_graph.parameters())\n",
    "batch_size = 25000\n",
    "\n",
    "activations = []\n",
    "dict(net_graph.named_modules())['embeddings_target'].register_forward_hook(lambda mod, inp, out: activations.append(out.cpu()));\n",
    "\n",
    "lap = None\n",
    "losses = []\n",
    "graph_losses = []\n",
    "p_iter = trange(0, targ_lst.size, batch_size)\n",
    "for i,batch_start in enumerate(p_iter):\n",
    "    neg_words = np.random.choice(sample_probability.index.values, size=(min(len(targ_lst) - batch_start, batch_size), 5), p=sample_probability.values)\n",
    "    target_tensor, context_tensor, neg_tensor = [torch.from_numpy(x).long().to(dev) for x in (targ_lst[batch_start:(batch_start + batch_size)], cont_lst[batch_start:(batch_start + batch_size)], neg_words)]\n",
    "\n",
    "    net_graph.zero_grad()\n",
    "    loss = net_graph(target_tensor, context_tensor, neg_tensor)\n",
    "    \n",
    "    losses.append(loss.data.item())\n",
    "    if lap is not None:\n",
    "        gl = graph_loss(activations[-1], lap) * 10.0\n",
    "        graph_losses.append(gl.data.item())\n",
    "        loss += gl\n",
    "\n",
    "    loss.backward()\n",
    "    optimizer.step()\n",
    "\n",
    "    if i > 1 and i % 100 == 0:\n",
    "        joint_activations = torch.vstack(activations).detach().numpy()\n",
    "        adj_mat = create_graph_from_embedding(joint_activations.T, 'knn')\n",
    "        graph = pygsp.graphs.Graph(adj_mat)\n",
    "        graph.compute_laplacian(lap_type='normalized')\n",
    "        lap = torch.Tensor(graph.L.A)\n",
    "        activations = []\n",
    "\n",
    "    if len(graph_losses) > 0:\n",
    "        p_iter.set_postfix({\"loss\": np.round(losses[-1]), \"graph\": np.round(graph_losses[-1])})\n",
    "    else:\n",
    "        p_iter.set_postfix({\"loss\": np.round(losses[-1])})"
   ]
  },
  {
   "cell_type": "code",
   "execution_count": 113,
   "id": "early-parks",
   "metadata": {},
   "outputs": [],
   "source": [
    "net_graph = net_graph.cpu();"
   ]
  },
  {
   "cell_type": "code",
   "execution_count": 134,
   "id": "operating-investment",
   "metadata": {},
   "outputs": [
    {
     "data": {
      "application/vnd.jupyter.widget-view+json": {
       "model_id": "30d3febdcae340a3a4ca292ec471529c",
       "version_major": 2,
       "version_minor": 0
      },
      "text/plain": [
       "  0%|          | 0/107727 [00:00<?, ?it/s]"
      ]
     },
     "metadata": {},
     "output_type": "display_data"
    }
   ],
   "source": [
    "activations = []\n",
    "lookup_table_graph = {k: net_graph.embeddings_target(torch.tensor([word_to_index[k]], dtype=torch.long)).detach().numpy() for k in tqdm(vocabulary)}\n",
    "lookup_table_graph = pd.Series(lookup_table_graph)[vocabulary]\n",
    "emb_mat_graph = np.concatenate(lookup_table_graph.values)"
   ]
  },
  {
   "cell_type": "code",
   "execution_count": 136,
   "id": "aging-ultimate",
   "metadata": {},
   "outputs": [],
   "source": [
    "joint_activations = torch.vstack(activations).detach().numpy()\n",
    "adj_mat = create_graph_from_embedding(joint_activations.T, 'knn')"
   ]
  },
  {
   "cell_type": "code",
   "execution_count": 335,
   "id": "downtown-senate",
   "metadata": {},
   "outputs": [
    {
     "data": {
      "image/png": "[encoded data removed]",
      "text/plain": [
       "<Figure size 432x288 with 1 Axes>"
      ]
     },
     "metadata": {
      "needs_background": "light"
     },
     "output_type": "display_data"
    }
   ],
   "source": [
    "spec_emb = SpectralEmbedding(affinity='precomputed').fit_transform(adj_mat)\n",
    "clust_labels = cluster.k_means(spec_emb, 8)[1]\n",
    "\n",
    "for i in set(clust_labels):\n",
    "    mask = (clust_labels == i)\n",
    "    plt.scatter(spec_emb[mask,0], spec_emb[mask,1], s=5, label=i)\n",
    "plt.legend();"
   ]
  },
  {
   "cell_type": "code",
   "execution_count": 339,
   "id": "mysterious-scheme",
   "metadata": {},
   "outputs": [
    {
     "data": {
      "text/plain": [
       "<matplotlib.colorbar.Colorbar at 0x7f5073b2a040>"
      ]
     },
     "execution_count": 339,
     "metadata": {},
     "output_type": "execute_result"
    },
    {
     "data": {
      "image/png": "[encoded data removed]",
      "text/plain": [
       "<Figure size 432x288 with 2 Axes>"
      ]
     },
     "metadata": {
      "needs_background": "light"
     },
     "output_type": "display_data"
    }
   ],
   "source": [
    "plt.scatter(spec_emb2[:,0], spec_emb2[:,1], c=lookup_table_graph[\"discourse\"], s=5, cmap=\"RdYlBu\")\n",
    "plt.colorbar()"
   ]
  },
  {
   "cell_type": "markdown",
   "id": "patent-detail",
   "metadata": {},
   "source": [
    "Clust 1:"
   ]
  },
  {
   "cell_type": "code",
   "execution_count": 336,
   "id": "elder-horizontal",
   "metadata": {},
   "outputs": [
    {
     "data": {
      "text/plain": [
       "array(['1800', 'a_v', 'sim3', '650', '1700', 'sim0', 'agev', 'pwn', '12c',\n",
       "       'gamma', 'sim1', 'sma', 'measured', '325', 'times10', 'qpo', '250',\n",
       "       'fwhm', 'dayside', '253', 'pm0', 'angle', 'sin', 'rad',\n",
       "       'unobscured', '200', 'kev', 'r_c', '240', 'qpos', 'sim',\n",
       "       'periastron', '130', 'emissivity', 'hei', 'bepposax', '024', 'rms',\n",
       "       'approx', 'crab', 'grs', 'flux', 'pseudorapidity', '320', 'circ',\n",
       "       'gev', 'eruptive', '433', '127', '1200'], dtype=object)"
      ]
     },
     "execution_count": 336,
     "metadata": {},
     "output_type": "execute_result"
    }
   ],
   "source": [
    "lookup_table_graph.index.values[pairwise.cosine_similarity(emb_mat_graph, np.atleast_2d((clust_labels == 1).astype(float))).flatten().argsort()[::-1][:50]]"
   ]
  },
  {
   "cell_type": "code",
   "execution_count": 338,
   "id": "banner-beaver",
   "metadata": {},
   "outputs": [
    {
     "data": {
      "text/plain": [
       "array(['discourse', 'game', 'attentive', 'entity', 'agent', 'dialog',\n",
       "       'social', 'commonsense', 'shared', 'language', 'formalized',\n",
       "       'relational', 'spoken', 'premise', 'sdn', 'phrase',\n",
       "       'informational', 'network', 'opinion', 'semantic', 'grounding',\n",
       "       'learning', 'party', 'multiplex', 'vendor', 'curriculum',\n",
       "       'graphical', 'sharing', 'attention', 'conversation', 'syntax',\n",
       "       'semantics', 'contextual', 'editing', 'collaborative', 'ethical',\n",
       "       'actor', 'tangible', 'reinforcement', 'textual', 'coined',\n",
       "       'voting', 'logical', 'linguistic', 'dialogue', 'learn',\n",
       "       'networked', 'harmful', 'learns', 'microgrids'], dtype=object)"
      ]
     },
     "execution_count": 338,
     "metadata": {},
     "output_type": "execute_result"
    }
   ],
   "source": [
    "lookup_table_graph.index.values[pairwise.cosine_similarity(emb_mat_graph, -np.atleast_2d((clust_labels == 1).astype(float))).flatten().argsort()[::-1][:50]]"
   ]
  },
  {
   "cell_type": "code",
   "execution_count": 337,
   "id": "covered-cleaners",
   "metadata": {},
   "outputs": [
    {
     "data": {
      "text/plain": [
       "array(['a_v', '1800', '433', 'sim3', 'agev', 'xmmu', 'rebrightening',\n",
       "       'dayside', '293', '149', 'pwn', '024', 'nobeyama', 'emissivities',\n",
       "       'flattens', 'passband', '303', 'mcdonald', '4686', '1700',\n",
       "       'darkened', 'slsne', '253', 'southeast', 'unobscured', 'kilohertz',\n",
       "       'hei', 'mrad', 'flyby', '083', '1510', 'serpens', '089', '036',\n",
       "       '10m', '336', 'c18o', 'm_bh', '325', '0716', 'meteoritic', 'ska1',\n",
       "       'lrg', 'proxima', 'gro', '1640', 't_l', 'femtobarns', 'plage',\n",
       "       'superhump'], dtype=object)"
      ]
     },
     "execution_count": 337,
     "metadata": {},
     "output_type": "execute_result"
    }
   ],
   "source": [
    "lookup_table_graph.index.values[pairwise.euclidean_distances(emb_mat_graph, np.atleast_2d((clust_labels == 1) * 5)).flatten().argsort()[:50]]"
   ]
  },
  {
   "cell_type": "markdown",
   "id": "protective-technology",
   "metadata": {},
   "source": [
    "Clust 2:"
   ]
  },
  {
   "cell_type": "code",
   "execution_count": 241,
   "id": "useful-botswana",
   "metadata": {},
   "outputs": [
    {
     "data": {
      "text/plain": [
       "array(['calculation', 'qcd', 'numerically', 'bottomonium', 'gluinos',\n",
       "       'approximation', 'loewner', 'carlo', 'partonic', 'painleve',\n",
       "       'nonrelativistic', 'monte', 'pitaevskii', 'full', 'dglap',\n",
       "       'perturbative', 'cancelled', 'accommodates', 'exact', 'discarded',\n",
       "       'hartree', 'subsampling', 'analytical', 'first', 'solution',\n",
       "       'running', 'steepest', 'sudakov', 'theoretical', 'nesterov',\n",
       "       'charmed', 'validity', 'holstein', 'result', 'psd', 'starting',\n",
       "       'numerical', 'bethe', 'prediction', 'yes', 'schwinger', 'qed',\n",
       "       'gribov', 'sherrington', 'staggered', 'ground', 'semiclassical',\n",
       "       'idle', 'analytically', 'experimental'], dtype=object)"
      ]
     },
     "execution_count": 241,
     "metadata": {},
     "output_type": "execute_result"
    }
   ],
   "source": [
    "lookup_table_graph.index.values[pairwise.cosine_similarity(emb_mat_graph, np.atleast_2d((clust_labels == 2).astype(float))).flatten().argsort()[::-1][:50]]"
   ]
  },
  {
   "cell_type": "code",
   "execution_count": 242,
   "id": "complimentary-recorder",
   "metadata": {},
   "outputs": [
    {
     "data": {
      "text/plain": [
       "array(['nad', 'nonstrange', 'peakon', '3xmm', 'geometrodynamics',\n",
       "       'projectability', 'acker', 'openacc', 'dsmc', 'inla', 'dyakonov',\n",
       "       '2sc', 'meshing', 'approximator', 'qed3', 'qqbar', 'rmhd',\n",
       "       'donder', 'nvt', 'savart', 'ramped', 'bssn', 'bertini', 'galform',\n",
       "       'bgo', 'stuckelberg', 'penetrability', 'absorbtion',\n",
       "       'electrodeposited', 'fcfs', 'vot2016', '0_l', 'mn', 'liapunov',\n",
       "       'uchii', 'ge', 'semidiscrete', 'pais', 'icr', 'impure', 'nurbs',\n",
       "       'exemplifying', 'uwb', 'antineutron', 'dokshitzer', 'gpe', 'wash',\n",
       "       'cohomologically', 'lipatov', 'krook'], dtype=object)"
      ]
     },
     "execution_count": 242,
     "metadata": {},
     "output_type": "execute_result"
    }
   ],
   "source": [
    "lookup_table_graph.index.values[pairwise.euclidean_distances(emb_mat_graph, np.atleast_2d((clust_labels == 2) * 5)).flatten().argsort()[:50]]"
   ]
  },
  {
   "cell_type": "markdown",
   "id": "suitable-butler",
   "metadata": {},
   "source": [
    "Clust 3:"
   ]
  },
  {
   "cell_type": "code",
   "execution_count": 248,
   "id": "billion-functionality",
   "metadata": {},
   "outputs": [
    {
     "data": {
      "text/plain": [
       "array(['mst', 'comput', 'idle', 'mori', 'nvidia', 'rev', 'commun', 'doi',\n",
       "       'browser', 'promotion', 'nobel', 'phys', '1981', 'que', 'lett',\n",
       "       'chem', 'tanaka', 'uni', 'cuins', 'subsampling', 'proc', 'maple',\n",
       "       'neuro', 'agreed', 'wang', 'alcohol', 'rfloor', 'begun', 'zhou',\n",
       "       'typing', 'automate', 'lion', 'accommodates', 'complementing',\n",
       "       'www', 'workspace', 'alcc', 'israel', 'granted', 'occasion',\n",
       "       'lake', 'na', 'soap', 'euro', '1957', 'eom', 'aggregator',\n",
       "       'inhibitor', 'lockdown', 'no_2'], dtype=object)"
      ]
     },
     "execution_count": 248,
     "metadata": {},
     "output_type": "execute_result"
    }
   ],
   "source": [
    "lookup_table_graph.index.values[pairwise.cosine_similarity(emb_mat_graph, np.atleast_2d((clust_labels == 3).astype(float))).flatten().argsort()[::-1][:50]]"
   ]
  },
  {
   "cell_type": "code",
   "execution_count": 252,
   "id": "neither-peeing",
   "metadata": {},
   "outputs": [
    {
     "data": {
      "text/plain": [
       "array(['mst', 'mori', 'nvidia', 'idle', 'comput', 'commun', 'browser',\n",
       "       'promotion', 'doi', '1981', 'rev', 'uni', 'chem', 'phys', 'proc',\n",
       "       'lett', 'agreed', 'maple', 'typing', 'begun', 'accommodates',\n",
       "       'complementing', 'zhou', 'rfloor', 'www', 'wang', 'automate',\n",
       "       'neuro', 'lake', 'israel', 'occasion', 'subsampling', 'psd',\n",
       "       'lion', 'decided', 'tao', 'intel', 'workspace', 'algorithmically',\n",
       "       'served', 'na', 'que', 'tanaka', 'sci', 'prl', 'preprint', 'cox',\n",
       "       'appl', 'mathematica', '2010'], dtype=object)"
      ]
     },
     "execution_count": 252,
     "metadata": {},
     "output_type": "execute_result"
    }
   ],
   "source": [
    "lookup_table_graph.index.values[pairwise.euclidean_distances(emb_mat_graph, np.atleast_2d((clust_labels == 3))).flatten().argsort()[:50]]"
   ]
  },
  {
   "cell_type": "code",
   "execution_count": 227,
   "id": "respective-tunnel",
   "metadata": {},
   "outputs": [],
   "source": [
    "# (emb_mat_graph * ((clust_labels == 2) * 2 - 1)).sum(axis=1)[(emb_mat_graph * ((clust_labels == 2) * 2 - 1)).sum(axis=1).argsort()[::-1]][:50]"
   ]
  },
  {
   "cell_type": "code",
   "execution_count": 259,
   "id": "lesser-mirror",
   "metadata": {},
   "outputs": [
    {
     "data": {
      "text/plain": [
       "<matplotlib.colorbar.Colorbar at 0x7f511d3f05e0>"
      ]
     },
     "execution_count": 259,
     "metadata": {},
     "output_type": "execute_result"
    },
    {
     "data": {
      "image/png": "[encoded data removed]",
      "text/plain": [
       "<Figure size 432x288 with 2 Axes>"
      ]
     },
     "metadata": {
      "needs_background": "light"
     },
     "output_type": "display_data"
    }
   ],
   "source": [
    "plt.scatter(spec_emb2[:,0], spec_emb2[:,1], c=lookup_table_graph[\"browser\"], s=5, cmap=\"RdYlBu\")\n",
    "plt.colorbar()"
   ]
  },
  {
   "cell_type": "code",
   "execution_count": 292,
   "id": "statistical-protocol",
   "metadata": {},
   "outputs": [
    {
     "data": {
      "image/png": "[encoded data removed]",
      "text/plain": [
       "<Figure size 432x288 with 1 Axes>"
      ]
     },
     "metadata": {
      "needs_background": "light"
     },
     "output_type": "display_data"
    }
   ],
   "source": [
    "from sklearn import cluster\n",
    "\n",
    "clust_labels = cluster.k_means(spec_emb2, 8)[1]\n",
    "\n",
    "for i in set(clust_labels):\n",
    "    mask = (clust_labels == i)\n",
    "    plt.scatter(spec_emb2[mask,0], spec_emb2[mask,1], s=5, label=i)\n",
    "plt.legend();"
   ]
  },
  {
   "cell_type": "code",
   "execution_count": 291,
   "id": "moved-access",
   "metadata": {},
   "outputs": [
    {
     "data": {
      "text/plain": [
       "<matplotlib.colorbar.Colorbar at 0x7f511cf358b0>"
      ]
     },
     "execution_count": 291,
     "metadata": {},
     "output_type": "execute_result"
    },
    {
     "data": {
      "image/png": "[encoded data removed]",
      "text/plain": [
       "<Figure size 432x288 with 2 Axes>"
      ]
     },
     "metadata": {
      "needs_background": "light"
     },
     "output_type": "display_data"
    }
   ],
   "source": [
    "plt.scatter(spec_emb2[:,0], spec_emb2[:,1], c=lookup_table_graph[\"method\"], s=5, cmap=\"RdYlBu\")\n",
    "plt.colorbar()"
   ]
  },
  {
   "cell_type": "code",
   "execution_count": 328,
   "id": "medical-baking",
   "metadata": {},
   "outputs": [
    {
     "data": {
      "text/plain": [
       "<matplotlib.colorbar.Colorbar at 0x7f5073ced6d0>"
      ]
     },
     "execution_count": 328,
     "metadata": {},
     "output_type": "execute_result"
    },
    {
     "data": {
      "image/png": "[encoded data removed]",
      "text/plain": [
       "<Figure size 432x288 with 2 Axes>"
      ]
     },
     "metadata": {
      "needs_background": "light"
     },
     "output_type": "display_data"
    }
   ],
   "source": [
    "plt.scatter(spec_emb2[:,0], spec_emb2[:,1], c=lookup_table_graph[\"manuscript\"], s=5, cmap=\"RdYlBu\")\n",
    "plt.colorbar()"
   ]
  },
  {
   "cell_type": "code",
   "execution_count": 325,
   "id": "ranking-excuse",
   "metadata": {},
   "outputs": [
    {
     "data": {
      "text/plain": [
       "array(['article', 'work', 'technical', 'algorithmic', 'purpose',\n",
       "       'proposes', 'deal', 'concept', 'mathematical', 'symbolic',\n",
       "       'prover', 'idea', 'tool', 'interactive', 'explores', 'formalize',\n",
       "       'firstly', 'tackle', 'declarative'], dtype=object)"
      ]
     },
     "execution_count": 325,
     "metadata": {},
     "output_type": "execute_result"
    }
   ],
   "source": [
    "# mask = (clust_labels == 3)\n",
    "mask = ~np.in1d(clust_labels, [1])\n",
    "lookup_table_graph.index.values[pairwise.cosine_similarity(emb_mat_graph[:,mask], lookup_table_graph['paper'][:,mask]).flatten().argsort()[::-1][1:20]]"
   ]
  },
  {
   "cell_type": "code",
   "execution_count": 326,
   "id": "designed-speech",
   "metadata": {},
   "outputs": [
    {
     "data": {
      "text/plain": [
       "array(['article', 'work', 'purpose', 'algorithmic', 'technical',\n",
       "       'problem', 'idea', 'deal', 'formalization', 'concept',\n",
       "       'mathematical', 'concise', 'firstly', 'devoted', 'manuscript',\n",
       "       'motivating', 'new', 'thesis', 'conceptual'], dtype=object)"
      ]
     },
     "execution_count": 326,
     "metadata": {},
     "output_type": "execute_result"
    }
   ],
   "source": [
    "lookup_table_graph.index.values[pairwise.cosine_similarity(emb_mat_graph, lookup_table_graph['paper']).flatten().argsort()[::-1][1:20]]"
   ]
  },
  {
   "cell_type": "markdown",
   "id": "dietary-package",
   "metadata": {},
   "source": [
    "## Notes\n",
    "\n",
    "- Can it be that each cluster is its own dimension? So we need to check how words change when values for the cluster nodes are moved from positive to negatives?\n",
    "- What if we take a normal word2vec, estimate co-activations and build a graph? Will it be clustered?\n",
    "- Probably, need to look at more dimensions than 2"
   ]
  }
 ],
 "metadata": {
  "kernelspec": {
   "display_name": "NNs",
   "language": "python",
   "name": "other-env"
  },
  "language_info": {
   "codemirror_mode": {
    "name": "ipython",
    "version": 3
   },
   "file_extension": ".py",
   "mimetype": "text/x-python",
   "name": "python",
   "nbconvert_exporter": "python",
   "pygments_lexer": "ipython3",
   "version": "3.8.5"
  }
 },
 "nbformat": 4,
 "nbformat_minor": 5
}
