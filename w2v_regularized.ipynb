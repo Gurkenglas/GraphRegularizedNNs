{
 "cells": [
  {
   "cell_type": "markdown",
   "id": "invisible-disney",
   "metadata": {},
   "source": [
    "- Code adopted from https://rguigoures.github.io/word2vec_pytorch/\n",
    "- Relevant implementation: https://github.com/Andras7/word2vec-pytorch"
   ]
  },
  {
   "cell_type": "code",
   "execution_count": 1,
   "id": "piano-shield",
   "metadata": {},
   "outputs": [],
   "source": [
    "import sys\n",
    "sys.path.append(\"..\")\n",
    "\n",
    "%load_ext autoreload\n",
    "%autoreload 2\n",
    "\n",
    "import itertools\n",
    "import re\n",
    "import gc\n",
    "import nltk\n",
    "\n",
    "from nltk.corpus import stopwords\n",
    "from tqdm.notebook import tqdm, trange\n",
    "from scipy import sparse\n",
    "import numpy as np\n",
    "import pandas as pd\n",
    "import pygsp\n",
    "\n",
    "from sklearn import cluster\n",
    "from sklearn.manifold import SpectralEmbedding\n",
    "import matplotlib.pyplot as plt\n",
    "\n",
    "import torch\n",
    "from torch import nn, autograd\n",
    "import torch.optim as optim\n",
    "import torch.nn.functional as F\n",
    "\n",
    "from src.graph_regularization import *\n",
    "from src.word2vec import *\n",
    "\n",
    "%config Completer.use_jedi = False\n",
    "\n",
    "dev = 'cuda:0'"
   ]
  },
  {
   "cell_type": "code",
   "execution_count": 2,
   "id": "ecological-needle",
   "metadata": {},
   "outputs": [],
   "source": [
    "sample_probability, word_to_index, index_to_word = pd.read_pickle(\"./cache/w2v_meta_info.pkl\")\n",
    "vocabulary = set(word_to_index.keys())"
   ]
  },
  {
   "cell_type": "code",
   "execution_count": 3,
   "id": "attractive-audit",
   "metadata": {},
   "outputs": [
    {
     "name": "stdout",
     "output_type": "stream",
     "text": [
      "CPU times: user 0 ns, sys: 7.26 s, total: 7.26 s\n",
      "Wall time: 7.28 s\n"
     ]
    }
   ],
   "source": [
    "%time targ_lst, cont_lst = pd.read_pickle(\"./cache/context_tuple_list_arxiv.pkl\")"
   ]
  },
  {
   "cell_type": "code",
   "execution_count": 4,
   "id": "married-mainland",
   "metadata": {},
   "outputs": [
    {
     "data": {
      "text/plain": [
       "graph        35021\n",
       "vertex       16969\n",
       "edge         12273\n",
       "number       10956\n",
       "random       10779\n",
       "network       9949\n",
       "problem       9687\n",
       "set           7987\n",
       "connected     7300\n",
       "class         7221\n",
       "algorithm     7144\n",
       "based         6576\n",
       "given         6329\n",
       "show          6264\n",
       "complete      6246\n",
       "dtype: int64"
      ]
     },
     "execution_count": 4,
     "metadata": {},
     "output_type": "execute_result"
    }
   ],
   "source": [
    "pd.value_counts(index_to_word[cont_lst[targ_lst == word_to_index[\"graph\"]]])[:15]"
   ]
  },
  {
   "cell_type": "markdown",
   "id": "impressive-diamond",
   "metadata": {
    "tags": []
   },
   "source": [
    "## Basic word2vec"
   ]
  },
  {
   "cell_type": "code",
   "execution_count": 40,
   "id": "afraid-chick",
   "metadata": {},
   "outputs": [],
   "source": [
    "del loss, losses, optimizer, net\n",
    "gc.collect()\n",
    "torch.cuda.empty_cache()"
   ]
  },
  {
   "cell_type": "code",
   "execution_count": 7,
   "id": "demographic-implementation",
   "metadata": {},
   "outputs": [],
   "source": [
    "net = Word2Vec(embedding_size=25**2, vocab_size=len(vocabulary)).to(dev)\n",
    "optimizer = optim.Adam(net.parameters())\n",
    "batch_size = 25000\n",
    "\n",
    "losses = []"
   ]
  },
  {
   "cell_type": "code",
   "execution_count": 8,
   "id": "devoted-fraction",
   "metadata": {},
   "outputs": [
    {
     "data": {
      "application/vnd.jupyter.widget-view+json": {
       "model_id": "be0acb13a5b8442e83cb102485f4817f",
       "version_major": 2,
       "version_minor": 0
      },
      "text/plain": [
       "HBox(children=(HTML(value=''), FloatProgress(value=0.0, max=41274.0), HTML(value='')))"
      ]
     },
     "metadata": {},
     "output_type": "display_data"
    },
    {
     "name": "stdout",
     "output_type": "stream",
     "text": [
      "\n",
      "CPU times: user 32min 49s, sys: 5min 13s, total: 38min 2s\n",
      "Wall time: 37min 48s\n"
     ]
    }
   ],
   "source": [
    "%%time\n",
    "\n",
    "p_iter = trange(0, targ_lst.size, batch_size)\n",
    "for batch_start in p_iter:\n",
    "    neg_words = np.random.choice(sample_probability.index.values, size=(min(len(targ_lst) - batch_start, batch_size), 5), p=sample_probability.values)\n",
    "    target_tensor = torch.from_numpy(targ_lst[batch_start:(batch_start + batch_size)]).long().to(dev)\n",
    "    context_tensor = torch.from_numpy(cont_lst[batch_start:(batch_start + batch_size)]).long().to(dev)\n",
    "    neg_tensor = torch.from_numpy(neg_words).long().to(dev)\n",
    "\n",
    "    net.zero_grad()\n",
    "    loss = net(target_tensor, context_tensor, neg_tensor)\n",
    "    losses.append(loss.data.item())\n",
    "\n",
    "    loss.backward()\n",
    "    optimizer.step()\n",
    "\n",
    "    p_iter.set_postfix({\"loss\": np.round(losses[-1])})"
   ]
  },
  {
   "cell_type": "code",
   "execution_count": null,
   "id": "commercial-affiliate",
   "metadata": {},
   "outputs": [],
   "source": [
    "# torch.save(net.cpu(), \"./models/w2v_arxiv.pkl\")\n",
    "torch.save(net.state_dict(), \"./models/w2v_arxiv_state.pth\")"
   ]
  },
  {
   "cell_type": "code",
   "execution_count": 9,
   "id": "statewide-profit",
   "metadata": {},
   "outputs": [],
   "source": [
    "net = net.cpu();\n",
    "\n",
    "activations = []\n",
    "dict(net.named_modules())['embeddings_target'].register_forward_hook(lambda mod, inp, out: activations.append(out.cpu()));"
   ]
  },
  {
   "cell_type": "code",
   "execution_count": 10,
   "id": "great-flour",
   "metadata": {},
   "outputs": [
    {
     "data": {
      "application/vnd.jupyter.widget-view+json": {
       "model_id": "cded941007844d9e97f5893007b278d4",
       "version_major": 2,
       "version_minor": 0
      },
      "text/plain": [
       "HBox(children=(HTML(value=''), FloatProgress(value=0.0, max=107727.0), HTML(value='')))"
      ]
     },
     "metadata": {},
     "output_type": "display_data"
    },
    {
     "name": "stdout",
     "output_type": "stream",
     "text": [
      "\n"
     ]
    }
   ],
   "source": [
    "activations = []\n",
    "lookup_table = {k: net.embeddings_target(torch.tensor([word_to_index[k]], dtype=torch.long)).detach().numpy() for k in tqdm(vocabulary)}\n",
    "lookup_table = pd.Series(lookup_table)[vocabulary]\n",
    "emb_mat = np.concatenate(lookup_table.values)\n",
    "\n",
    "joint_activations = torch.vstack(activations).detach().numpy()\n",
    "adj_mat = create_graph_from_embedding(joint_activations.T, 'knn')"
   ]
  },
  {
   "cell_type": "code",
   "execution_count": 27,
   "id": "otherwise-crisis",
   "metadata": {},
   "outputs": [
    {
     "data": {
      "image/png": "[encoded data removed]",
      "text/plain": [
       "<Figure size 432x288 with 1 Axes>"
      ]
     },
     "metadata": {
      "needs_background": "light"
     },
     "output_type": "display_data"
    }
   ],
   "source": [
    "plt.plot(np.log10(losses))\n",
    "plt.xlabel(\"Iteration\"); plt.ylabel(\"log(Loss)\");"
   ]
  },
  {
   "cell_type": "code",
   "execution_count": 11,
   "id": "ongoing-paintball",
   "metadata": {},
   "outputs": [
    {
     "data": {
      "image/png": "[encoded data removed]",
      "text/plain": [
       "<Figure size 432x288 with 1 Axes>"
      ]
     },
     "metadata": {
      "needs_background": "light"
     },
     "output_type": "display_data"
    }
   ],
   "source": [
    "spec_emb = SpectralEmbedding(affinity='precomputed').fit_transform(adj_mat)\n",
    "clust_labels = cluster.k_means(spec_emb, 8)[1]\n",
    "\n",
    "for i in set(clust_labels):\n",
    "    mask = (clust_labels == i)\n",
    "    plt.scatter(spec_emb[mask,0], spec_emb[mask,1], s=5, label=i)\n",
    "plt.legend();"
   ]
  },
  {
   "cell_type": "code",
   "execution_count": 12,
   "id": "desperate-worse",
   "metadata": {},
   "outputs": [],
   "source": [
    "from sklearn.metrics import pairwise"
   ]
  },
  {
   "cell_type": "code",
   "execution_count": 14,
   "id": "romance-gauge",
   "metadata": {},
   "outputs": [
    {
     "data": {
      "text/plain": [
       "array(['paper', 'article', 'work', 'new', 'aim', 'author', 'purpose',\n",
       "       'issue', 'introduce', 'address'], dtype=object)"
      ]
     },
     "execution_count": 14,
     "metadata": {},
     "output_type": "execute_result"
    }
   ],
   "source": [
    "lookup_table.index.values[pairwise.cosine_similarity(emb_mat, lookup_table['paper']).flatten().argsort()[::-1][:10]]"
   ]
  },
  {
   "cell_type": "markdown",
   "id": "occupied-mixture",
   "metadata": {
    "heading_collapsed": "true",
    "tags": []
   },
   "source": [
    "## Graph-regularized (grid)"
   ]
  },
  {
   "cell_type": "code",
   "execution_count": 33,
   "id": "opened-cinema",
   "metadata": {},
   "outputs": [],
   "source": [
    "lap_csr = nx.linalg.normalized_laplacian_matrix(nx.grid_graph((15, 15)))\n",
    "# coo = sparse.coo_matrix(lap_csr)\n",
    "# values = coo.data\n",
    "# indices = np.vstack((coo.row, coo.col))\n",
    "\n",
    "# lap_torch = torch.sparse.FloatTensor(torch.LongTensor(indices), torch.FloatTensor(values), torch.Size(coo.shape))\n",
    "\n",
    "lap_torch = torch.Tensor(lap_csr.A)"
   ]
  },
  {
   "cell_type": "code",
   "execution_count": 39,
   "id": "cooperative-cincinnati",
   "metadata": {},
   "outputs": [
    {
     "data": {
      "application/vnd.jupyter.widget-view+json": {
       "model_id": "810c1ba2f1b9438897e5c153d7e560fd",
       "version_major": 2,
       "version_minor": 0
      },
      "text/plain": [
       "  0%|          | 0/41274 [00:00<?, ?it/s]"
      ]
     },
     "metadata": {},
     "output_type": "display_data"
    },
    {
     "name": "stdout",
     "output_type": "stream",
     "text": [
      "CPU times: user 5h 45min 14s, sys: 12min 36s, total: 5h 57min 50s\n",
      "Wall time: 1h 41min 53s\n"
     ]
    }
   ],
   "source": [
    "%%time\n",
    "\n",
    "net_graph = Word2Vec(embedding_size=225, vocab_size=len(vocabulary)).to(dev)\n",
    "optimizer = optim.Adam(net_graph.parameters())\n",
    "batch_size = 25000\n",
    "\n",
    "activations = []\n",
    "dict(net_graph.named_modules())['embeddings_target'].register_forward_hook(lambda mod, inp, out: activations.append(out.cpu()));\n",
    "\n",
    "losses = []\n",
    "graph_losses = []\n",
    "p_iter = trange(0, targ_lst.size, batch_size)\n",
    "for batch_start in p_iter:\n",
    "    neg_words = np.random.choice(sample_probability.index.values, size=(min(len(targ_lst) - batch_start, batch_size), 5), p=sample_probability.values)\n",
    "    target_tensor, context_tensor, neg_tensor = [torch.from_numpy(x).long().to(dev) for x in (targ_lst[batch_start:(batch_start + batch_size)], cont_lst[batch_start:(batch_start + batch_size)], neg_words)]\n",
    "\n",
    "    activations = []\n",
    "    net_graph.zero_grad()\n",
    "    loss = net_graph(target_tensor, context_tensor, neg_tensor)\n",
    "\n",
    "    gl = graph_loss(activations[-1], lap_torch) * 10.0\n",
    "    graph_losses.append(gl.data.item())\n",
    "    losses.append(loss.data.item())\n",
    "    loss += gl\n",
    "\n",
    "    loss.backward()\n",
    "    optimizer.step()\n",
    "    p_iter.set_postfix({\"loss\": np.round(losses[-1]), \"graph\": np.round(graph_losses[-1])})"
   ]
  },
  {
   "cell_type": "code",
   "execution_count": 87,
   "id": "behavioral-above",
   "metadata": {},
   "outputs": [],
   "source": [
    "torch.save(net_graph.state_dict(), \"./models/w2v_arxiv_graph_state.pth\")"
   ]
  },
  {
   "cell_type": "code",
   "execution_count": 40,
   "id": "least-afghanistan",
   "metadata": {},
   "outputs": [],
   "source": [
    "import matplotlib.pyplot as plt"
   ]
  },
  {
   "cell_type": "code",
   "execution_count": 41,
   "id": "thrown-olympus",
   "metadata": {},
   "outputs": [
    {
     "data": {
      "image/png": "[encoded data removed]",
      "text/plain": [
       "<Figure size 432x288 with 1 Axes>"
      ]
     },
     "metadata": {
      "needs_background": "light"
     },
     "output_type": "display_data"
    }
   ],
   "source": [
    "plt.plot(np.log10(losses), label=\"Prediction\")\n",
    "plt.plot(np.log10(graph_losses), label=\"Graph\")\n",
    "plt.ylabel(\"log10(loss)\")\n",
    "plt.legend();"
   ]
  },
  {
   "cell_type": "markdown",
   "id": "coral-analyst",
   "metadata": {
    "heading_collapsed": "true",
    "tags": []
   },
   "source": [
    "### Evaluation"
   ]
  },
  {
   "cell_type": "code",
   "execution_count": 42,
   "id": "headed-cylinder",
   "metadata": {},
   "outputs": [],
   "source": [
    "from sklearn.metrics import pairwise\n",
    "import seaborn as sns"
   ]
  },
  {
   "cell_type": "code",
   "execution_count": 43,
   "id": "daily-glossary",
   "metadata": {},
   "outputs": [],
   "source": [
    "net_graph = net_graph.cpu();\n",
    "net = net.cpu();"
   ]
  },
  {
   "cell_type": "code",
   "execution_count": 68,
   "id": "marine-knitting",
   "metadata": {},
   "outputs": [
    {
     "data": {
      "application/vnd.jupyter.widget-view+json": {
       "model_id": "c43536b022fb48738d4ddab9dda1b826",
       "version_major": 2,
       "version_minor": 0
      },
      "text/plain": [
       "  0%|          | 0/107727 [00:00<?, ?it/s]"
      ]
     },
     "metadata": {},
     "output_type": "display_data"
    },
    {
     "data": {
      "application/vnd.jupyter.widget-view+json": {
       "model_id": "d96d575ccf214096a16825af281308dc",
       "version_major": 2,
       "version_minor": 0
      },
      "text/plain": [
       "  0%|          | 0/107727 [00:00<?, ?it/s]"
      ]
     },
     "metadata": {},
     "output_type": "display_data"
    }
   ],
   "source": [
    "lookup_table_graph = {k: net_graph.embeddings_target(torch.tensor([word_to_index[k]], dtype=torch.long)).detach().numpy() for k in tqdm(vocabulary)}\n",
    "lookup_table_graph = pd.Series(lookup_table_graph)[vocabulary]\n",
    "lookup_table = {k: net.embeddings_target(torch.tensor([word_to_index[k]], dtype=torch.long)).detach().numpy() for k in tqdm(vocabulary)}\n",
    "lookup_table = pd.Series(lookup_table)[vocabulary]\n",
    "\n",
    "emb_mat_graph = np.concatenate(lookup_table_graph.values)\n",
    "emb_mat = np.concatenate(lookup_table.values)"
   ]
  },
  {
   "cell_type": "code",
   "execution_count": 31,
   "id": "medical-secret",
   "metadata": {},
   "outputs": [
    {
     "data": {
      "text/plain": [
       "array(['paper', 'article', 'work', 'idea', 'aim'], dtype=object)"
      ]
     },
     "execution_count": 31,
     "metadata": {},
     "output_type": "execute_result"
    }
   ],
   "source": [
    "lookup_table.index.values[pairwise.cosine_similarity(emb_mat, lookup_table['paper']).flatten().argsort()[::-1][:5]]"
   ]
  },
  {
   "cell_type": "code",
   "execution_count": 46,
   "id": "aquatic-violin",
   "metadata": {},
   "outputs": [
    {
     "data": {
      "text/plain": [
       "array(['paper', 'article', 'work', 'idea', 'concept'], dtype=object)"
      ]
     },
     "execution_count": 46,
     "metadata": {},
     "output_type": "execute_result"
    }
   ],
   "source": [
    "lookup_table.index.values[pairwise.cosine_similarity(emb_mat, lookup_table['paper']).flatten().argsort()[::-1][:5]]"
   ]
  },
  {
   "cell_type": "code",
   "execution_count": 58,
   "id": "large-congo",
   "metadata": {},
   "outputs": [
    {
     "data": {
      "text/plain": [
       "array(['man', 'conflicting', 'geographic', 'inspect', 'abnormal'],\n",
       "      dtype=object)"
      ]
     },
     "execution_count": 58,
     "metadata": {},
     "output_type": "execute_result"
    }
   ],
   "source": [
    "lookup_table.index.values[pairwise.cosine_similarity(emb_mat, lookup_table['man']).flatten().argsort()[::-1][:5]]"
   ]
  },
  {
   "cell_type": "code",
   "execution_count": 77,
   "id": "dangerous-enzyme",
   "metadata": {},
   "outputs": [
    {
     "data": {
      "image/png": "[encoded data removed]",
      "text/plain": [
       "<Figure size 432x288 with 1 Axes>"
      ]
     },
     "metadata": {
      "needs_background": "light"
     },
     "output_type": "display_data"
    }
   ],
   "source": [
    "plt.bar(np.arange(225), lookup_table[\"article\"].flatten())\n",
    "plt.xlabel(\"Embedding coordinate\"); plt.ylabel(\"Value\"); plt.title(\"Word 'article'\");"
   ]
  },
  {
   "cell_type": "code",
   "execution_count": 78,
   "id": "incorporate-equation",
   "metadata": {},
   "outputs": [
    {
     "data": {
      "image/png": "[encoded data removed]",
      "text/plain": [
       "<Figure size 432x288 with 1 Axes>"
      ]
     },
     "metadata": {
      "needs_background": "light"
     },
     "output_type": "display_data"
    }
   ],
   "source": [
    "plt.bar(np.arange(225), lookup_table[\"paper\"].flatten())\n",
    "plt.xlabel(\"Embedding coordinate\"); plt.ylabel(\"Value\"); plt.title(\"Word 'paper'\");"
   ]
  },
  {
   "cell_type": "code",
   "execution_count": 79,
   "id": "driven-novelty",
   "metadata": {},
   "outputs": [
    {
     "data": {
      "image/png": "[encoded data removed]",
      "text/plain": [
       "<Figure size 432x288 with 2 Axes>"
      ]
     },
     "metadata": {
      "needs_background": "light"
     },
     "output_type": "display_data"
    }
   ],
   "source": [
    "sns.heatmap(lookup_table[\"article\"].reshape(15, 15), center=0);\n",
    "plt.title(\"Word 'article'\");"
   ]
  },
  {
   "cell_type": "code",
   "execution_count": 80,
   "id": "based-citizenship",
   "metadata": {},
   "outputs": [
    {
     "data": {
      "image/png": "[encoded data removed]",
      "text/plain": [
       "<Figure size 432x288 with 2 Axes>"
      ]
     },
     "metadata": {
      "needs_background": "light"
     },
     "output_type": "display_data"
    }
   ],
   "source": [
    "sns.heatmap(lookup_table[\"paper\"].reshape(15, 15), center=0);\n",
    "plt.title(\"Word 'paper'\");"
   ]
  },
  {
   "cell_type": "code",
   "execution_count": 84,
   "id": "fifth-tattoo",
   "metadata": {},
   "outputs": [
    {
     "data": {
      "image/png": "[encoded data removed]",
      "text/plain": [
       "<Figure size 432x288 with 2 Axes>"
      ]
     },
     "metadata": {
      "needs_background": "light"
     },
     "output_type": "display_data"
    }
   ],
   "source": [
    "sns.heatmap(lookup_table_graph[\"article\"].reshape(15, 15), center=0)\n",
    "plt.title(\"Word 'article'\");"
   ]
  },
  {
   "cell_type": "code",
   "execution_count": 86,
   "id": "finished-municipality",
   "metadata": {},
   "outputs": [
    {
     "data": {
      "image/png": "[encoded data removed]",
      "text/plain": [
       "<Figure size 432x288 with 2 Axes>"
      ]
     },
     "metadata": {
      "needs_background": "light"
     },
     "output_type": "display_data"
    }
   ],
   "source": [
    "sns.heatmap(lookup_table_graph[\"paper\"].reshape(15, 15), center=0)\n",
    "plt.title(\"Word 'paper'\");"
   ]
  },
  {
   "cell_type": "code",
   "execution_count": 65,
   "id": "figured-collect",
   "metadata": {},
   "outputs": [
    {
     "data": {
      "text/plain": [
       "<AxesSubplot:>"
      ]
     },
     "execution_count": 65,
     "metadata": {},
     "output_type": "execute_result"
    },
    {
     "data": {
      "image/png": "[encoded data removed]",
      "text/plain": [
       "<Figure size 432x288 with 2 Axes>"
      ]
     },
     "metadata": {
      "needs_background": "light"
     },
     "output_type": "display_data"
    }
   ],
   "source": [
    "sns.heatmap(lookup_table[\"neuron\"].reshape(15, 15), center=0)"
   ]
  },
  {
   "cell_type": "code",
   "execution_count": 67,
   "id": "deluxe-hungary",
   "metadata": {},
   "outputs": [
    {
     "data": {
      "text/plain": [
       "<AxesSubplot:>"
      ]
     },
     "execution_count": 67,
     "metadata": {},
     "output_type": "execute_result"
    },
    {
     "data": {
      "image/png": "[encoded data removed]",
      "text/plain": [
       "<Figure size 432x288 with 2 Axes>"
      ]
     },
     "metadata": {
      "needs_background": "light"
     },
     "output_type": "display_data"
    }
   ],
   "source": [
    "sns.heatmap(lookup_table[\"neural\"].reshape(15, 15), center=0)"
   ]
  },
  {
   "cell_type": "markdown",
   "id": "mediterranean-congo",
   "metadata": {},
   "source": [
    "## Grap-regularized (k-NN)"
   ]
  },
  {
   "cell_type": "code",
   "execution_count": 30,
   "id": "broad-robertson",
   "metadata": {},
   "outputs": [],
   "source": [
    "del loss, losses, optimizer, net_graph, gl, graph_losses, lap\n",
    "gc.collect()\n",
    "torch.cuda.empty_cache()"
   ]
  },
  {
   "cell_type": "code",
   "execution_count": 31,
   "id": "legislative-study",
   "metadata": {},
   "outputs": [],
   "source": [
    "net_graph = Word2Vec(embedding_size=25**2, vocab_size=len(vocabulary)).to(dev)\n",
    "optimizer = optim.Adam(net_graph.parameters())\n",
    "batch_size = 25000\n",
    "\n",
    "activations = []\n",
    "dict(net_graph.named_modules())['embeddings_target'].register_forward_hook(lambda mod, inp, out: activations.append(out.cpu()));"
   ]
  },
  {
   "cell_type": "code",
   "execution_count": 32,
   "id": "interpreted-designer",
   "metadata": {},
   "outputs": [
    {
     "data": {
      "application/vnd.jupyter.widget-view+json": {
       "model_id": "3f984940404e426688ceb19bc55a0087",
       "version_major": 2,
       "version_minor": 0
      },
      "text/plain": [
       "HBox(children=(HTML(value=''), FloatProgress(value=0.0, max=41274.0), HTML(value='')))"
      ]
     },
     "metadata": {},
     "output_type": "display_data"
    },
    {
     "name": "stdout",
     "output_type": "stream",
     "text": [
      "\n",
      "CPU times: user 14h 15min 35s, sys: 1h 36min 56s, total: 15h 52min 31s\n",
      "Wall time: 2h 14min 43s\n"
     ]
    }
   ],
   "source": [
    "%%time\n",
    "\n",
    "lap = None\n",
    "losses = []\n",
    "graph_losses = []\n",
    "p_iter = trange(0, targ_lst.size, batch_size)\n",
    "for i,batch_start in enumerate(p_iter):\n",
    "    activations = []\n",
    "    neg_words = np.random.choice(sample_probability.index.values, size=(min(len(targ_lst) - batch_start, batch_size), 5), p=sample_probability.values)\n",
    "    target_tensor, context_tensor, neg_tensor = [torch.from_numpy(x).long().to(dev) for x in (targ_lst[batch_start:(batch_start + batch_size)], cont_lst[batch_start:(batch_start + batch_size)], neg_words)]\n",
    "\n",
    "    net_graph.zero_grad()\n",
    "    loss = net_graph(target_tensor, context_tensor, neg_tensor)\n",
    "    \n",
    "    losses.append(loss.data.item())\n",
    "    if lap is not None:\n",
    "        gl = graph_loss(activations[-1], lap) * 200.0\n",
    "        graph_losses.append(gl.data.item())\n",
    "        loss += gl\n",
    "\n",
    "    loss.backward()\n",
    "    optimizer.step()\n",
    "\n",
    "    if i > 1 and i % 500 == 0:\n",
    "        joint_activations = net_graph.embeddings_target(torch.tensor(np.array(list(word_to_index.values())), dtype=torch.long).to(dev)).cpu().detach().numpy()\n",
    "        adj_mat = create_graph_from_embedding(joint_activations.T, 'knn')\n",
    "        graph = pygsp.graphs.Graph(adj_mat)\n",
    "        graph.compute_laplacian(lap_type='normalized')\n",
    "        lap = torch.Tensor(graph.L.A)\n",
    "\n",
    "    if len(graph_losses) > 0:\n",
    "        p_iter.set_postfix({\"loss\": np.round(losses[-1]), \"graph\": np.round(graph_losses[-1])})\n",
    "    else:\n",
    "        p_iter.set_postfix({\"loss\": np.round(losses[-1])})"
   ]
  },
  {
   "cell_type": "code",
   "execution_count": 33,
   "id": "desirable-glance",
   "metadata": {},
   "outputs": [
    {
     "data": {
      "image/png": "[encoded data removed]",
      "text/plain": [
       "<Figure size 432x288 with 1 Axes>"
      ]
     },
     "metadata": {
      "needs_background": "light"
     },
     "output_type": "display_data"
    }
   ],
   "source": [
    "plt.plot(np.log10(losses))\n",
    "plt.xlabel(\"Iteration\"); plt.ylabel(\"log(Loss)\");"
   ]
  },
  {
   "cell_type": "code",
   "execution_count": 34,
   "id": "hollywood-duration",
   "metadata": {},
   "outputs": [
    {
     "data": {
      "image/png": "[encoded data removed]",
      "text/plain": [
       "<Figure size 432x288 with 1 Axes>"
      ]
     },
     "metadata": {
      "needs_background": "light"
     },
     "output_type": "display_data"
    }
   ],
   "source": [
    "plt.plot(np.log10(graph_losses))\n",
    "plt.xlabel(\"Iteration\"); plt.ylabel(\"log(Loss)\");"
   ]
  },
  {
   "cell_type": "code",
   "execution_count": 35,
   "id": "incorrect-anime",
   "metadata": {},
   "outputs": [],
   "source": [
    "net_graph = net_graph.cpu();"
   ]
  },
  {
   "cell_type": "code",
   "execution_count": 36,
   "id": "addressed-disaster",
   "metadata": {},
   "outputs": [
    {
     "data": {
      "application/vnd.jupyter.widget-view+json": {
       "model_id": "123a156b09664a5286158ef4198917ec",
       "version_major": 2,
       "version_minor": 0
      },
      "text/plain": [
       "HBox(children=(HTML(value=''), FloatProgress(value=0.0, max=107727.0), HTML(value='')))"
      ]
     },
     "metadata": {},
     "output_type": "display_data"
    },
    {
     "name": "stdout",
     "output_type": "stream",
     "text": [
      "\n"
     ]
    }
   ],
   "source": [
    "activations = []\n",
    "lookup_table_graph = {k: net_graph.embeddings_target(torch.tensor([word_to_index[k]], dtype=torch.long)).detach().numpy() for k in tqdm(vocabulary)}\n",
    "lookup_table_graph = pd.Series(lookup_table_graph)[vocabulary]\n",
    "emb_mat_graph = np.concatenate(lookup_table_graph.values)"
   ]
  },
  {
   "cell_type": "code",
   "execution_count": 37,
   "id": "radical-intersection",
   "metadata": {},
   "outputs": [],
   "source": [
    "joint_activations = torch.vstack(activations).detach().numpy()\n",
    "adj_mat = create_graph_from_embedding(joint_activations.T, 'knn')"
   ]
  },
  {
   "cell_type": "code",
   "execution_count": null,
   "id": "chemical-webster",
   "metadata": {},
   "outputs": [],
   "source": [
    "spec_emb = SpectralEmbedding(affinity='precomputed').fit_transform(adj_mat)\n",
    "clust_labels = cluster.k_means(spec_emb, 8)[1]\n",
    "\n",
    "for i in set(clust_labels):\n",
    "    mask = (clust_labels == i)\n",
    "    plt.scatter(spec_emb[mask,0], spec_emb[mask,1], s=5, label=i)\n",
    "plt.legend();"
   ]
  },
  {
   "cell_type": "code",
   "execution_count": 41,
   "id": "developed-disaster",
   "metadata": {},
   "outputs": [
    {
     "data": {
      "text/plain": [
       "array(['paper', 'problem', 'setting', 'work', 'develop', 'new', 'context',\n",
       "       'concept', 'attempt', 'approach'], dtype=object)"
      ]
     },
     "execution_count": 41,
     "metadata": {},
     "output_type": "execute_result"
    }
   ],
   "source": [
    "lookup_table_graph.index.values[pairwise.cosine_similarity(emb_mat_graph, lookup_table_graph['paper']).flatten().argsort()[::-1][:10]]"
   ]
  },
  {
   "cell_type": "markdown",
   "id": "greatest-timber",
   "metadata": {},
   "source": [
    "## Grap-regularized (k-NN flat)"
   ]
  },
  {
   "cell_type": "code",
   "execution_count": 63,
   "id": "identical-london",
   "metadata": {},
   "outputs": [],
   "source": [
    "del loss, losses, optimizer, net_graph, gl, graph_losses, lap\n",
    "gc.collect()\n",
    "torch.cuda.empty_cache()"
   ]
  },
  {
   "cell_type": "code",
   "execution_count": 64,
   "id": "opponent-upper",
   "metadata": {},
   "outputs": [],
   "source": [
    "net_graph = Word2Vec(embedding_size=25**2, vocab_size=len(vocabulary)).to(dev)\n",
    "optimizer = optim.Adam(net_graph.parameters())\n",
    "batch_size = 25000\n",
    "\n",
    "activations = []\n",
    "dict(net_graph.named_modules())['embeddings_target'].register_forward_hook(lambda mod, inp, out: activations.append(out.cpu()));"
   ]
  },
  {
   "cell_type": "code",
   "execution_count": 65,
   "id": "banned-gossip",
   "metadata": {},
   "outputs": [
    {
     "data": {
      "application/vnd.jupyter.widget-view+json": {
       "model_id": "3a095ab5e02645028295d2600fda9467",
       "version_major": 2,
       "version_minor": 0
      },
      "text/plain": [
       "HBox(children=(HTML(value=''), FloatProgress(value=0.0, max=41274.0), HTML(value='')))"
      ]
     },
     "metadata": {},
     "output_type": "display_data"
    },
    {
     "name": "stdout",
     "output_type": "stream",
     "text": [
      "\n",
      "CPU times: user 14h 17min 6s, sys: 1h 23min 57s, total: 15h 41min 3s\n",
      "Wall time: 2h 12min 27s\n"
     ]
    }
   ],
   "source": [
    "%%time\n",
    "\n",
    "lap = None\n",
    "losses = []\n",
    "graph_losses = []\n",
    "p_iter = trange(0, targ_lst.size, batch_size)\n",
    "for i,batch_start in enumerate(p_iter):\n",
    "    activations = []\n",
    "    neg_words = np.random.choice(sample_probability.index.values, size=(min(len(targ_lst) - batch_start, batch_size), 5), p=sample_probability.values)\n",
    "    target_tensor, context_tensor, neg_tensor = [torch.from_numpy(x).long().to(dev) for x in (targ_lst[batch_start:(batch_start + batch_size)], cont_lst[batch_start:(batch_start + batch_size)], neg_words)]\n",
    "\n",
    "    net_graph.zero_grad()\n",
    "    loss = net_graph(target_tensor, context_tensor, neg_tensor)\n",
    "\n",
    "    losses.append(loss.data.item())\n",
    "    if lap is not None:\n",
    "        gl = graph_loss(activations[-1], lap) * 200.0\n",
    "        graph_losses.append(gl.data.item())\n",
    "        loss += gl\n",
    "\n",
    "    loss.backward()\n",
    "    optimizer.step()\n",
    "\n",
    "    if i > 1 and i % 500 == 0:\n",
    "        joint_activations = net_graph.embeddings_target(torch.tensor(np.array(list(word_to_index.values())), dtype=torch.long).to(dev)).cpu().detach().numpy()\n",
    "        adj_mat = create_graph_from_embedding(joint_activations.T, 'knn-flat')\n",
    "        graph = pygsp.graphs.Graph(adj_mat)\n",
    "        graph.compute_laplacian(lap_type='normalized')\n",
    "        lap = torch.Tensor(graph.L.A)\n",
    "\n",
    "    if len(graph_losses) > 0:\n",
    "        p_iter.set_postfix({\"loss\": np.round(losses[-1]), \"graph\": np.round(graph_losses[-1])})\n",
    "    else:\n",
    "        p_iter.set_postfix({\"loss\": np.round(losses[-1])})"
   ]
  },
  {
   "cell_type": "code",
   "execution_count": 66,
   "id": "eleven-divorce",
   "metadata": {},
   "outputs": [
    {
     "data": {
      "image/png": "[encoded data removed]",
      "text/plain": [
       "<Figure size 432x288 with 1 Axes>"
      ]
     },
     "metadata": {
      "needs_background": "light"
     },
     "output_type": "display_data"
    }
   ],
   "source": [
    "plt.plot(np.log10(losses))\n",
    "plt.xlabel(\"Iteration\"); plt.ylabel(\"log(Loss)\");"
   ]
  },
  {
   "cell_type": "code",
   "execution_count": 67,
   "id": "animal-mining",
   "metadata": {},
   "outputs": [
    {
     "data": {
      "image/png": "[encoded data removed]",
      "text/plain": [
       "<Figure size 432x288 with 1 Axes>"
      ]
     },
     "metadata": {
      "needs_background": "light"
     },
     "output_type": "display_data"
    }
   ],
   "source": [
    "plt.plot(np.log10(graph_losses))\n",
    "plt.xlabel(\"Iteration\"); plt.ylabel(\"log(Loss)\");"
   ]
  },
  {
   "cell_type": "code",
   "execution_count": 68,
   "id": "narrow-cincinnati",
   "metadata": {},
   "outputs": [],
   "source": [
    "net_graph = net_graph.cpu();"
   ]
  },
  {
   "cell_type": "code",
   "execution_count": 69,
   "id": "dense-retail",
   "metadata": {},
   "outputs": [
    {
     "data": {
      "application/vnd.jupyter.widget-view+json": {
       "model_id": "5384445059ea4cec8d12c1bef8228001",
       "version_major": 2,
       "version_minor": 0
      },
      "text/plain": [
       "HBox(children=(HTML(value=''), FloatProgress(value=0.0, max=107727.0), HTML(value='')))"
      ]
     },
     "metadata": {},
     "output_type": "display_data"
    },
    {
     "name": "stdout",
     "output_type": "stream",
     "text": [
      "\n"
     ]
    }
   ],
   "source": [
    "activations = []\n",
    "lookup_table_graph = {k: net_graph.embeddings_target(torch.tensor([word_to_index[k]], dtype=torch.long)).detach().numpy() for k in tqdm(vocabulary)}\n",
    "lookup_table_graph = pd.Series(lookup_table_graph)[vocabulary]\n",
    "emb_mat_graph = np.concatenate(lookup_table_graph.values)"
   ]
  },
  {
   "cell_type": "code",
   "execution_count": 70,
   "id": "worse-satisfaction",
   "metadata": {},
   "outputs": [],
   "source": [
    "joint_activations = torch.vstack(activations).detach().numpy()\n",
    "adj_mat = create_graph_from_embedding(joint_activations.T, 'knn')"
   ]
  },
  {
   "cell_type": "code",
   "execution_count": null,
   "id": "public-python",
   "metadata": {},
   "outputs": [],
   "source": [
    "spec_emb = SpectralEmbedding(affinity='precomputed').fit_transform(adj_mat)\n",
    "clust_labels = cluster.k_means(spec_emb, 8)[1]\n",
    "\n",
    "for i in set(clust_labels):\n",
    "    mask = (clust_labels == i)\n",
    "    plt.scatter(spec_emb[mask,0], spec_emb[mask,1], s=5, label=i)\n",
    "plt.legend();"
   ]
  },
  {
   "cell_type": "code",
   "execution_count": 72,
   "id": "parental-springfield",
   "metadata": {},
   "outputs": [
    {
     "data": {
      "text/plain": [
       "array(['paper', 'problem', 'setting', 'article', 'new', 'application',\n",
       "       'tackle', 'develop', 'work', 'purpose'], dtype=object)"
      ]
     },
     "execution_count": 72,
     "metadata": {},
     "output_type": "execute_result"
    }
   ],
   "source": [
    "lookup_table_graph.index.values[pairwise.cosine_similarity(emb_mat_graph, lookup_table_graph['paper']).flatten().argsort()[::-1][:10]]"
   ]
  },
  {
   "cell_type": "markdown",
   "id": "present-liquid",
   "metadata": {},
   "source": [
    "## Grap-regularized (full cosine)"
   ]
  },
  {
   "cell_type": "code",
   "execution_count": 35,
   "id": "recorded-moses",
   "metadata": {},
   "outputs": [],
   "source": [
    "del loss, losses, optimizer, net_graph, gl, graph_losses, lap\n",
    "gc.collect()\n",
    "torch.cuda.empty_cache()"
   ]
  },
  {
   "cell_type": "code",
   "execution_count": 36,
   "id": "experimental-disposal",
   "metadata": {},
   "outputs": [],
   "source": [
    "net_graph = Word2Vec(embedding_size=25**2, vocab_size=len(vocabulary)).to(dev)\n",
    "optimizer = optim.Adam(net_graph.parameters())\n",
    "batch_size = 25000\n",
    "\n",
    "activations = []\n",
    "dict(net_graph.named_modules())['embeddings_target'].register_forward_hook(lambda mod, inp, out: activations.append(out.cpu()));"
   ]
  },
  {
   "cell_type": "code",
   "execution_count": 37,
   "id": "super-biography",
   "metadata": {},
   "outputs": [
    {
     "data": {
      "application/vnd.jupyter.widget-view+json": {
       "model_id": "e51deb5bf007417d98e319e051402da7",
       "version_major": 2,
       "version_minor": 0
      },
      "text/plain": [
       "HBox(children=(HTML(value=''), FloatProgress(value=0.0, max=41274.0), HTML(value='')))"
      ]
     },
     "metadata": {},
     "output_type": "display_data"
    },
    {
     "name": "stdout",
     "output_type": "stream",
     "text": [
      "\n",
      "CPU times: user 14h 34min 13s, sys: 1h 43min 3s, total: 16h 17min 17s\n",
      "Wall time: 2h 20min 39s\n"
     ]
    }
   ],
   "source": [
    "%%time\n",
    "\n",
    "lap = None\n",
    "losses = []\n",
    "graph_losses = []\n",
    "p_iter = trange(0, targ_lst.size, batch_size)\n",
    "for i,batch_start in enumerate(p_iter):\n",
    "    activations = []\n",
    "    neg_words = np.random.choice(sample_probability.index.values, size=(min(len(targ_lst) - batch_start, batch_size), 5), p=sample_probability.values)\n",
    "    target_tensor, context_tensor, neg_tensor = [torch.from_numpy(x).long().to(dev) for x in (targ_lst[batch_start:(batch_start + batch_size)], cont_lst[batch_start:(batch_start + batch_size)], neg_words)]\n",
    "\n",
    "    net_graph.zero_grad()\n",
    "    loss = net_graph(target_tensor, context_tensor, neg_tensor)\n",
    "\n",
    "    losses.append(loss.data.item())\n",
    "    if lap is not None:\n",
    "        gl = graph_loss(activations[-1], lap) * 30.0\n",
    "        graph_losses.append(gl.data.item())\n",
    "        loss += gl\n",
    "\n",
    "    loss.backward()\n",
    "    optimizer.step()\n",
    "\n",
    "    if i > 1 and i % 500 == 0:\n",
    "        joint_activations = net_graph.embeddings_target(torch.tensor(np.array(list(word_to_index.values())), dtype=torch.long).to(dev)).cpu().detach().numpy()\n",
    "        adj_mat = create_graph_from_embedding(joint_activations.T, 'full')\n",
    "        graph = pygsp.graphs.Graph(adj_mat)\n",
    "        graph.compute_laplacian(lap_type='normalized')\n",
    "        lap = torch.Tensor(graph.L.A)\n",
    "\n",
    "    if len(graph_losses) > 0:\n",
    "        p_iter.set_postfix({\"loss\": np.round(losses[-1]), \"graph\": np.round(graph_losses[-1])})\n",
    "    else:\n",
    "        p_iter.set_postfix({\"loss\": np.round(losses[-1])})"
   ]
  },
  {
   "cell_type": "code",
   "execution_count": 38,
   "id": "wooden-mediterranean",
   "metadata": {},
   "outputs": [
    {
     "data": {
      "image/png": "[encoded data removed]",
      "text/plain": [
       "<Figure size 432x288 with 1 Axes>"
      ]
     },
     "metadata": {
      "needs_background": "light"
     },
     "output_type": "display_data"
    }
   ],
   "source": [
    "plt.plot(np.log10(losses))\n",
    "plt.xlabel(\"Iteration\"); plt.ylabel(\"log(Loss)\");"
   ]
  },
  {
   "cell_type": "code",
   "execution_count": 39,
   "id": "elect-plumbing",
   "metadata": {},
   "outputs": [
    {
     "data": {
      "image/png": "[encoded data removed]",
      "text/plain": [
       "<Figure size 432x288 with 1 Axes>"
      ]
     },
     "metadata": {
      "needs_background": "light"
     },
     "output_type": "display_data"
    }
   ],
   "source": [
    "plt.plot(np.log10(graph_losses))\n",
    "plt.xlabel(\"Iteration\"); plt.ylabel(\"log(Loss)\");"
   ]
  },
  {
   "cell_type": "code",
   "execution_count": 40,
   "id": "medium-charge",
   "metadata": {},
   "outputs": [],
   "source": [
    "net_graph = net_graph.cpu();"
   ]
  },
  {
   "cell_type": "code",
   "execution_count": 41,
   "id": "following-fellowship",
   "metadata": {},
   "outputs": [
    {
     "data": {
      "application/vnd.jupyter.widget-view+json": {
       "model_id": "96293c0559c44ee580e340504d024b5c",
       "version_major": 2,
       "version_minor": 0
      },
      "text/plain": [
       "HBox(children=(HTML(value=''), FloatProgress(value=0.0, max=107727.0), HTML(value='')))"
      ]
     },
     "metadata": {},
     "output_type": "display_data"
    },
    {
     "name": "stdout",
     "output_type": "stream",
     "text": [
      "\n"
     ]
    }
   ],
   "source": [
    "activations = []\n",
    "lookup_table_graph = {k: net_graph.embeddings_target(torch.tensor([word_to_index[k]], dtype=torch.long)).detach().numpy() for k in tqdm(vocabulary)}\n",
    "lookup_table_graph = pd.Series(lookup_table_graph)[vocabulary]\n",
    "emb_mat_graph = np.concatenate(lookup_table_graph.values)"
   ]
  },
  {
   "cell_type": "code",
   "execution_count": 45,
   "id": "wrong-bread",
   "metadata": {},
   "outputs": [],
   "source": [
    "joint_activations = torch.vstack(activations).detach().numpy()\n",
    "adj_mat = create_graph_from_embedding(joint_activations.T, 'full')"
   ]
  },
  {
   "cell_type": "code",
   "execution_count": 46,
   "id": "macro-marble",
   "metadata": {},
   "outputs": [
    {
     "data": {
      "image/png": "[encoded data removed]",
      "text/plain": [
       "<Figure size 432x288 with 1 Axes>"
      ]
     },
     "metadata": {
      "needs_background": "light"
     },
     "output_type": "display_data"
    }
   ],
   "source": [
    "spec_emb = SpectralEmbedding(affinity='precomputed').fit_transform(adj_mat)\n",
    "clust_labels = cluster.k_means(spec_emb, 8)[1]\n",
    "\n",
    "for i in set(clust_labels):\n",
    "    mask = (clust_labels == i)\n",
    "    plt.scatter(spec_emb[mask,0], spec_emb[mask,1], s=5, label=i)\n",
    "plt.legend();"
   ]
  },
  {
   "cell_type": "code",
   "execution_count": 44,
   "id": "provincial-stationery",
   "metadata": {},
   "outputs": [
    {
     "data": {
      "text/plain": [
       "array(['paper', 'article', 'work', 'aim', 'new', 'problem', 'purpose',\n",
       "       'proposes', 'concept', 'challenge'], dtype=object)"
      ]
     },
     "execution_count": 44,
     "metadata": {},
     "output_type": "execute_result"
    }
   ],
   "source": [
    "lookup_table_graph.index.values[pairwise.cosine_similarity(emb_mat_graph, lookup_table_graph['paper']).flatten().argsort()[::-1][:10]]"
   ]
  },
  {
   "cell_type": "markdown",
   "id": "universal-warner",
   "metadata": {},
   "source": [
    "## Grap-regularized: 6 clusters hclust"
   ]
  },
  {
   "cell_type": "code",
   "execution_count": 56,
   "id": "agricultural-flower",
   "metadata": {},
   "outputs": [],
   "source": [
    "del loss, losses, optimizer, net_graph, gl, graph_losses, lap\n",
    "gc.collect()\n",
    "torch.cuda.empty_cache()"
   ]
  },
  {
   "cell_type": "code",
   "execution_count": 57,
   "id": "spoken-assignment",
   "metadata": {},
   "outputs": [],
   "source": [
    "net_graph = Word2Vec(embedding_size=25**2, vocab_size=len(vocabulary)).to(dev)\n",
    "optimizer = optim.Adam(net_graph.parameters())\n",
    "batch_size = 25000\n",
    "\n",
    "activations = []\n",
    "dict(net_graph.named_modules())['embeddings_target'].register_forward_hook(lambda mod, inp, out: activations.append(out.cpu()));"
   ]
  },
  {
   "cell_type": "code",
   "execution_count": 58,
   "id": "major-indiana",
   "metadata": {},
   "outputs": [
    {
     "data": {
      "application/vnd.jupyter.widget-view+json": {
       "model_id": "442b286ebcb8462190a84f1b34687e74",
       "version_major": 2,
       "version_minor": 0
      },
      "text/plain": [
       "HBox(children=(HTML(value=''), FloatProgress(value=0.0, max=41274.0), HTML(value='')))"
      ]
     },
     "metadata": {},
     "output_type": "display_data"
    },
    {
     "name": "stdout",
     "output_type": "stream",
     "text": [
      "\n"
     ]
    },
    {
     "ename": "KeyboardInterrupt",
     "evalue": "",
     "output_type": "error",
     "traceback": [
      "\u001b[0;31m---------------------------------------------------------------------------\u001b[0m",
      "\u001b[0;31mKeyboardInterrupt\u001b[0m                         Traceback (most recent call last)",
      "\u001b[0;32m<timed exec>\u001b[0m in \u001b[0;36m<module>\u001b[0;34m\u001b[0m\n",
      "\u001b[0;31mKeyboardInterrupt\u001b[0m: "
     ]
    }
   ],
   "source": [
    "%%time\n",
    "\n",
    "lap = None\n",
    "losses = []\n",
    "graph_losses = []\n",
    "p_iter = trange(0, targ_lst.size, batch_size)\n",
    "for i,batch_start in enumerate(p_iter):\n",
    "    activations = []\n",
    "    target_tensor, context_tensor, neg_tensor = [x.to(dev) for x in get_next_batch(sample_probability, targ_lst, cont_lst, batch_start=batch_start, batch_size=batch_size)]\n",
    "\n",
    "    net_graph.zero_grad()\n",
    "    loss = net_graph(target_tensor, context_tensor, neg_tensor)\n",
    "\n",
    "    losses.append(loss.data.item())\n",
    "    if lap is not None:\n",
    "        gl = graph_loss(activations[-1], lap) * 10.0\n",
    "        graph_losses.append(gl.data.item())\n",
    "        loss += gl\n",
    "\n",
    "    loss.backward()\n",
    "    optimizer.step()\n",
    "\n",
    "    if i > 1 and i % 1000 == 0:\n",
    "        joint_activations = net_graph.embeddings_target(torch.tensor(np.array(list(word_to_index.values())), dtype=torch.long).to(dev)).cpu().detach().numpy()\n",
    "        lap = create_lap_from_embedding(joint_activations.T, 'hclust', n_clusters=6)\n",
    "\n",
    "    if len(graph_losses) > 0:\n",
    "        p_iter.set_postfix({\"loss\": np.round(losses[-1]), \"graph\": np.round(graph_losses[-1])})\n",
    "    else:\n",
    "        p_iter.set_postfix({\"loss\": np.round(losses[-1])})"
   ]
  },
  {
   "cell_type": "code",
   "execution_count": 59,
   "id": "random-colon",
   "metadata": {},
   "outputs": [
    {
     "data": {
      "image/png": "[encoded data removed]",
      "text/plain": [
       "<Figure size 432x288 with 1 Axes>"
      ]
     },
     "metadata": {
      "needs_background": "light"
     },
     "output_type": "display_data"
    }
   ],
   "source": [
    "plt.plot(np.log10(losses), label=\"Prediction\")\n",
    "plt.plot(np.log10(graph_losses), label=\"Graph\")\n",
    "plt.xlabel(\"Iteration\"); plt.ylabel(\"log(Loss)\");\n",
    "plt.legend();"
   ]
  },
  {
   "cell_type": "code",
   "execution_count": 60,
   "id": "proved-sewing",
   "metadata": {},
   "outputs": [],
   "source": [
    "net_graph = net_graph.cpu();"
   ]
  },
  {
   "cell_type": "code",
   "execution_count": 61,
   "id": "bulgarian-gentleman",
   "metadata": {},
   "outputs": [
    {
     "data": {
      "application/vnd.jupyter.widget-view+json": {
       "model_id": "1eeef0e56ecc4a4baf04969a042479d4",
       "version_major": 2,
       "version_minor": 0
      },
      "text/plain": [
       "HBox(children=(HTML(value=''), FloatProgress(value=0.0, max=107727.0), HTML(value='')))"
      ]
     },
     "metadata": {},
     "output_type": "display_data"
    },
    {
     "name": "stdout",
     "output_type": "stream",
     "text": [
      "\n"
     ]
    }
   ],
   "source": [
    "activations = []\n",
    "lookup_table_graph = {k: net_graph.embeddings_target(torch.tensor([word_to_index[k]], dtype=torch.long)).detach().numpy() for k in tqdm(vocabulary)}\n",
    "lookup_table_graph = pd.Series(lookup_table_graph)[vocabulary]\n",
    "emb_mat_graph = np.concatenate(lookup_table_graph.values)"
   ]
  },
  {
   "cell_type": "code",
   "execution_count": 96,
   "id": "pharmaceutical-interaction",
   "metadata": {},
   "outputs": [
    {
     "data": {
      "image/png": "[encoded data removed]",
      "text/plain": [
       "<Figure size 432x288 with 1 Axes>"
      ]
     },
     "metadata": {
      "needs_background": "light"
     },
     "output_type": "display_data"
    }
   ],
   "source": [
    "adj_mat = create_graph_from_embedding(emb_mat_graph.T, 'knn', k=10)\n",
    "spec_emb = SpectralEmbedding(affinity='precomputed').fit_transform(adj_mat)\n",
    "\n",
    "for i in set(clusts):\n",
    "    mask = (clust_labels == i)\n",
    "    plt.scatter(spec_emb[mask,0], spec_emb[mask,1], s=5, label=i)\n",
    "plt.legend();"
   ]
  },
  {
   "cell_type": "code",
   "execution_count": 97,
   "id": "radical-inspection",
   "metadata": {},
   "outputs": [
    {
     "data": {
      "text/plain": [
       "array(['paper', 'article', 'work', 'new', 'problem', 'aim', 'concept',\n",
       "       'theoretic', 'purpose', 'question'], dtype=object)"
      ]
     },
     "execution_count": 97,
     "metadata": {},
     "output_type": "execute_result"
    }
   ],
   "source": [
    "lookup_table_graph.index.values[pairwise.cosine_similarity(emb_mat_graph, lookup_table_graph['paper']).flatten().argsort()[::-1][:10]]"
   ]
  },
  {
   "cell_type": "markdown",
   "id": "atmospheric-virginia",
   "metadata": {},
   "source": [
    "## Grap-regularized: 6 clusters spectral"
   ]
  },
  {
   "cell_type": "code",
   "execution_count": 39,
   "id": "indonesian-lafayette",
   "metadata": {},
   "outputs": [],
   "source": [
    "del loss, losses, optimizer, net_graph, gl, graph_losses, lap\n",
    "gc.collect()\n",
    "torch.cuda.empty_cache()"
   ]
  },
  {
   "cell_type": "code",
   "execution_count": 40,
   "id": "decimal-sharing",
   "metadata": {},
   "outputs": [],
   "source": [
    "net_graph = Word2Vec(embedding_size=22**2, vocab_size=len(vocabulary)).to(dev)\n",
    "optimizer = optim.Adam(net_graph.parameters())\n",
    "batch_size = 25000\n",
    "\n",
    "activations = []\n",
    "dict(net_graph.named_modules())['embeddings_target'].register_forward_hook(lambda mod, inp, out: activations.append(out.cpu()));"
   ]
  },
  {
   "cell_type": "code",
   "execution_count": 41,
   "id": "psychological-spectacular",
   "metadata": {},
   "outputs": [
    {
     "data": {
      "application/vnd.jupyter.widget-view+json": {
       "model_id": "eaca5251fe8849019a7fe3eb0c53dcbe",
       "version_major": 2,
       "version_minor": 0
      },
      "text/plain": [
       "HBox(children=(HTML(value=''), FloatProgress(value=0.0, max=41274.0), HTML(value='')))"
      ]
     },
     "metadata": {},
     "output_type": "display_data"
    },
    {
     "name": "stdout",
     "output_type": "stream",
     "text": [
      "\n",
      "CPU times: user 10h 6min 47s, sys: 1h 13min 3s, total: 11h 19min 50s\n",
      "Wall time: 1h 42min 53s\n"
     ]
    }
   ],
   "source": [
    "%%time\n",
    "\n",
    "lap = None\n",
    "losses = []\n",
    "graph_losses = []\n",
    "p_iter = trange(0, targ_lst.size, batch_size)\n",
    "for i,batch_start in enumerate(p_iter):\n",
    "    activations = []\n",
    "    target_tensor, context_tensor, neg_tensor = [x.to(dev) for x in get_next_batch(sample_probability, targ_lst, cont_lst, batch_start=batch_start, batch_size=batch_size)]\n",
    "\n",
    "    net_graph.zero_grad()\n",
    "    loss = net_graph(target_tensor, context_tensor, neg_tensor)\n",
    "\n",
    "    losses.append(loss.data.item())\n",
    "    if lap is not None:\n",
    "        gl = graph_loss(activations[-1], lap) * 20.0\n",
    "        graph_losses.append(gl.data.item())\n",
    "        loss += gl\n",
    "\n",
    "    loss.backward()\n",
    "    optimizer.step()\n",
    "\n",
    "    if i > 1 and i % 500 == 0:\n",
    "        joint_activations = net_graph.embeddings_target(torch.tensor(np.array(list(word_to_index.values())), dtype=torch.long).to(dev)).cpu().detach().numpy()\n",
    "        lap = create_lap_from_embedding(joint_activations.T, 'knn-spectral', n_clusters=6)\n",
    "\n",
    "    if len(graph_losses) > 0:\n",
    "        p_iter.set_postfix({\"loss\": np.round(losses[-1]), \"graph\": np.round(graph_losses[-1])})\n",
    "    else:\n",
    "        p_iter.set_postfix({\"loss\": np.round(losses[-1])})"
   ]
  },
  {
   "cell_type": "code",
   "execution_count": 42,
   "id": "correct-token",
   "metadata": {},
   "outputs": [
    {
     "data": {
      "image/png": "[encoded data removed]",
      "text/plain": [
       "<Figure size 432x288 with 1 Axes>"
      ]
     },
     "metadata": {
      "needs_background": "light"
     },
     "output_type": "display_data"
    }
   ],
   "source": [
    "plt.plot(np.log10(losses), label=\"Prediction\")\n",
    "plt.plot(np.log10(graph_losses), label=\"Graph\")\n",
    "plt.xlabel(\"Iteration\"); plt.ylabel(\"log(Loss)\");\n",
    "plt.legend();"
   ]
  },
  {
   "cell_type": "code",
   "execution_count": 43,
   "id": "extra-assignment",
   "metadata": {},
   "outputs": [],
   "source": [
    "net_graph = net_graph.cpu();"
   ]
  },
  {
   "cell_type": "code",
   "execution_count": 44,
   "id": "regional-portfolio",
   "metadata": {},
   "outputs": [
    {
     "data": {
      "application/vnd.jupyter.widget-view+json": {
       "model_id": "2d3b114650964bf290abc9003af66c5f",
       "version_major": 2,
       "version_minor": 0
      },
      "text/plain": [
       "HBox(children=(HTML(value=''), FloatProgress(value=0.0, max=107727.0), HTML(value='')))"
      ]
     },
     "metadata": {},
     "output_type": "display_data"
    },
    {
     "name": "stdout",
     "output_type": "stream",
     "text": [
      "\n"
     ]
    }
   ],
   "source": [
    "activations = []\n",
    "lookup_table_graph = {k: net_graph.embeddings_target(torch.tensor([word_to_index[k]], dtype=torch.long)).detach().numpy() for k in tqdm(vocabulary)}\n",
    "lookup_table_graph = pd.Series(lookup_table_graph)[vocabulary]\n",
    "emb_mat_graph = np.concatenate(lookup_table_graph.values)"
   ]
  },
  {
   "cell_type": "code",
   "execution_count": 76,
   "id": "convinced-pastor",
   "metadata": {},
   "outputs": [
    {
     "data": {
      "image/png": "[encoded data removed]",
      "text/plain": [
       "<Figure size 432x288 with 1 Axes>"
      ]
     },
     "metadata": {
      "needs_background": "light"
     },
     "output_type": "display_data"
    }
   ],
   "source": [
    "adj_mat = create_graph_from_embedding(emb_mat_graph.T, 'knn', k=10)\n",
    "spec_emb = SpectralEmbedding(affinity='precomputed').fit_transform(adj_mat)\n",
    "clust_labels = cluster.k_means(spec_emb, 6)[1]\n",
    "\n",
    "for i in set(clust_labels):\n",
    "    mask = (clust_labels == i)\n",
    "    plt.scatter(spec_emb[mask,0], spec_emb[mask,1], s=5, label=i)\n",
    "plt.legend();"
   ]
  },
  {
   "cell_type": "code",
   "execution_count": 72,
   "id": "dental-luxembourg",
   "metadata": {},
   "outputs": [
    {
     "data": {
      "text/plain": [
       "array(['indistinguishable', 'decay', 'branching', 'gluino', 'glitch',\n",
       "       'oppenheimer', 'attempted', '220', 'distribution', 'eliminates',\n",
       "       'v_2', 'censored', 'fornax', 'semileptonic', 'tevatron', 'nu_',\n",
       "       'accumulated', 'd_s', 'fringe', 'misleading', 'gamma', 'thereof',\n",
       "       'charmonium', 'excess', 'spectrum', 'concurrently', 'correlation',\n",
       "       'babar', 'elevated', 'sinr', 'sfrs', 'qpo', 'grbs', 'univariate',\n",
       "       'cumulants', 'probability', 'memoryless', 'signal', 'assimilation',\n",
       "       'ratio', 'fwhm', 'beaming', 'cdw', '158', 'measurement',\n",
       "       'femtobarns', 'overlooked', 'upsilon', 'qsos', 'occupation'],\n",
       "      dtype=object)"
      ]
     },
     "execution_count": 72,
     "metadata": {},
     "output_type": "execute_result"
    }
   ],
   "source": [
    "lookup_table_graph.index.values[pairwise.cosine_similarity(emb_mat_graph, np.atleast_2d((clust_labels == 3).astype(float))).flatten().argsort()[::-1][:50]]"
   ]
  },
  {
   "cell_type": "code",
   "execution_count": 79,
   "id": "peripheral-archive",
   "metadata": {},
   "outputs": [
    {
     "data": {
      "image/png": "[encoded data removed]",
      "text/plain": [
       "<Figure size 432x288 with 2 Axes>"
      ]
     },
     "metadata": {
      "needs_background": "light"
     },
     "output_type": "display_data"
    }
   ],
   "source": [
    "plt.scatter(spec_emb[:,0], spec_emb[:,1], s=5, c=lookup_table_graph['network'].flatten(), cmap=\"RdYlBu\")\n",
    "plt.colorbar();\n",
    "plt.title(\"Activation for word 'network'\");"
   ]
  },
  {
   "cell_type": "code",
   "execution_count": 50,
   "id": "composite-optimization",
   "metadata": {},
   "outputs": [
    {
     "data": {
      "text/plain": [
       "array(['paper', 'article', 'work', 'problem', 'aim', 'new', 'deal',\n",
       "       'technical', 'idea', 'devoted'], dtype=object)"
      ]
     },
     "execution_count": 50,
     "metadata": {},
     "output_type": "execute_result"
    }
   ],
   "source": [
    "lookup_table_graph.index.values[pairwise.cosine_similarity(emb_mat_graph, lookup_table_graph['paper']).flatten().argsort()[::-1][:10]]"
   ]
  }
 ],
 "metadata": {
  "kernelspec": {
   "display_name": "Python 3",
   "language": "python",
   "name": "python3"
  },
  "language_info": {
   "codemirror_mode": {
    "name": "ipython",
    "version": 3
   },
   "file_extension": ".py",
   "mimetype": "text/x-python",
   "name": "python",
   "nbconvert_exporter": "python",
   "pygments_lexer": "ipython3",
   "version": "3.8.5"
  }
 },
 "nbformat": 4,
 "nbformat_minor": 5
}
